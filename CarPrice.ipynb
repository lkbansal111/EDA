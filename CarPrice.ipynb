{
 "cells": [
  {
   "cell_type": "markdown",
   "id": "stupid-bones",
   "metadata": {},
   "source": [
    "# Car Price Prediction"
   ]
  },
  {
   "cell_type": "markdown",
   "id": "greenhouse-vancouver",
   "metadata": {},
   "source": [
    "## Import the libraries"
   ]
  },
  {
   "cell_type": "code",
   "execution_count": 1,
   "id": "conscious-complement",
   "metadata": {},
   "outputs": [],
   "source": [
    "## Data Analysis Phase\n",
    "## MAin aim is to understand more about the data\n",
    "import pandas as pd\n",
    "import numpy as np\n",
    "import matplotlib.pyplot as plt\n",
    "%matplotlib inline\n",
    "import seaborn as sns\n",
    "\n",
    "## Display all the columns of the dataframe\n",
    "pd.pandas.set_option('display.max_columns',None)"
   ]
  },
  {
   "cell_type": "markdown",
   "id": "dedicated-federation",
   "metadata": {},
   "source": [
    "## Reading the dataset"
   ]
  },
  {
   "cell_type": "code",
   "execution_count": 2,
   "id": "thorough-momentum",
   "metadata": {},
   "outputs": [
    {
     "name": "stdout",
     "output_type": "stream",
     "text": [
      "(205, 26)\n"
     ]
    }
   ],
   "source": [
    "dataset=pd.read_csv('CarData.csv')\n",
    "\n",
    "## print shape of dataset with rows and columns\n",
    "print(dataset.shape)"
   ]
  },
  {
   "cell_type": "code",
   "execution_count": 3,
   "id": "athletic-treasury",
   "metadata": {},
   "outputs": [
    {
     "data": {
      "text/html": [
       "<div>\n",
       "<style scoped>\n",
       "    .dataframe tbody tr th:only-of-type {\n",
       "        vertical-align: middle;\n",
       "    }\n",
       "\n",
       "    .dataframe tbody tr th {\n",
       "        vertical-align: top;\n",
       "    }\n",
       "\n",
       "    .dataframe thead th {\n",
       "        text-align: right;\n",
       "    }\n",
       "</style>\n",
       "<table border=\"1\" class=\"dataframe\">\n",
       "  <thead>\n",
       "    <tr style=\"text-align: right;\">\n",
       "      <th></th>\n",
       "      <th>car_ID</th>\n",
       "      <th>symboling</th>\n",
       "      <th>CarName</th>\n",
       "      <th>fueltype</th>\n",
       "      <th>aspiration</th>\n",
       "      <th>doornumber</th>\n",
       "      <th>carbody</th>\n",
       "      <th>drivewheel</th>\n",
       "      <th>enginelocation</th>\n",
       "      <th>wheelbase</th>\n",
       "      <th>carlength</th>\n",
       "      <th>carwidth</th>\n",
       "      <th>carheight</th>\n",
       "      <th>curbweight</th>\n",
       "      <th>enginetype</th>\n",
       "      <th>cylindernumber</th>\n",
       "      <th>enginesize</th>\n",
       "      <th>fuelsystem</th>\n",
       "      <th>boreratio</th>\n",
       "      <th>stroke</th>\n",
       "      <th>compressionratio</th>\n",
       "      <th>horsepower</th>\n",
       "      <th>peakrpm</th>\n",
       "      <th>citympg</th>\n",
       "      <th>highwaympg</th>\n",
       "      <th>price</th>\n",
       "    </tr>\n",
       "  </thead>\n",
       "  <tbody>\n",
       "    <tr>\n",
       "      <th>0</th>\n",
       "      <td>1</td>\n",
       "      <td>3</td>\n",
       "      <td>alfa-romero giulia</td>\n",
       "      <td>gas</td>\n",
       "      <td>std</td>\n",
       "      <td>two</td>\n",
       "      <td>convertible</td>\n",
       "      <td>rwd</td>\n",
       "      <td>front</td>\n",
       "      <td>88.6</td>\n",
       "      <td>168.8</td>\n",
       "      <td>64.1</td>\n",
       "      <td>48.8</td>\n",
       "      <td>2548</td>\n",
       "      <td>dohc</td>\n",
       "      <td>four</td>\n",
       "      <td>130</td>\n",
       "      <td>mpfi</td>\n",
       "      <td>3.47</td>\n",
       "      <td>2.68</td>\n",
       "      <td>9.0</td>\n",
       "      <td>111</td>\n",
       "      <td>5000</td>\n",
       "      <td>21</td>\n",
       "      <td>27</td>\n",
       "      <td>13495.0</td>\n",
       "    </tr>\n",
       "    <tr>\n",
       "      <th>1</th>\n",
       "      <td>2</td>\n",
       "      <td>3</td>\n",
       "      <td>alfa-romero stelvio</td>\n",
       "      <td>gas</td>\n",
       "      <td>std</td>\n",
       "      <td>two</td>\n",
       "      <td>convertible</td>\n",
       "      <td>rwd</td>\n",
       "      <td>front</td>\n",
       "      <td>88.6</td>\n",
       "      <td>168.8</td>\n",
       "      <td>64.1</td>\n",
       "      <td>48.8</td>\n",
       "      <td>2548</td>\n",
       "      <td>dohc</td>\n",
       "      <td>four</td>\n",
       "      <td>130</td>\n",
       "      <td>mpfi</td>\n",
       "      <td>3.47</td>\n",
       "      <td>2.68</td>\n",
       "      <td>9.0</td>\n",
       "      <td>111</td>\n",
       "      <td>5000</td>\n",
       "      <td>21</td>\n",
       "      <td>27</td>\n",
       "      <td>16500.0</td>\n",
       "    </tr>\n",
       "    <tr>\n",
       "      <th>2</th>\n",
       "      <td>3</td>\n",
       "      <td>1</td>\n",
       "      <td>alfa-romero Quadrifoglio</td>\n",
       "      <td>gas</td>\n",
       "      <td>std</td>\n",
       "      <td>two</td>\n",
       "      <td>hatchback</td>\n",
       "      <td>rwd</td>\n",
       "      <td>front</td>\n",
       "      <td>94.5</td>\n",
       "      <td>171.2</td>\n",
       "      <td>65.5</td>\n",
       "      <td>52.4</td>\n",
       "      <td>2823</td>\n",
       "      <td>ohcv</td>\n",
       "      <td>six</td>\n",
       "      <td>152</td>\n",
       "      <td>mpfi</td>\n",
       "      <td>2.68</td>\n",
       "      <td>3.47</td>\n",
       "      <td>9.0</td>\n",
       "      <td>154</td>\n",
       "      <td>5000</td>\n",
       "      <td>19</td>\n",
       "      <td>26</td>\n",
       "      <td>16500.0</td>\n",
       "    </tr>\n",
       "    <tr>\n",
       "      <th>3</th>\n",
       "      <td>4</td>\n",
       "      <td>2</td>\n",
       "      <td>audi 100 ls</td>\n",
       "      <td>gas</td>\n",
       "      <td>std</td>\n",
       "      <td>four</td>\n",
       "      <td>sedan</td>\n",
       "      <td>fwd</td>\n",
       "      <td>front</td>\n",
       "      <td>99.8</td>\n",
       "      <td>176.6</td>\n",
       "      <td>66.2</td>\n",
       "      <td>54.3</td>\n",
       "      <td>2337</td>\n",
       "      <td>ohc</td>\n",
       "      <td>four</td>\n",
       "      <td>109</td>\n",
       "      <td>mpfi</td>\n",
       "      <td>3.19</td>\n",
       "      <td>3.40</td>\n",
       "      <td>10.0</td>\n",
       "      <td>102</td>\n",
       "      <td>5500</td>\n",
       "      <td>24</td>\n",
       "      <td>30</td>\n",
       "      <td>13950.0</td>\n",
       "    </tr>\n",
       "    <tr>\n",
       "      <th>4</th>\n",
       "      <td>5</td>\n",
       "      <td>2</td>\n",
       "      <td>audi 100ls</td>\n",
       "      <td>gas</td>\n",
       "      <td>std</td>\n",
       "      <td>four</td>\n",
       "      <td>sedan</td>\n",
       "      <td>4wd</td>\n",
       "      <td>front</td>\n",
       "      <td>99.4</td>\n",
       "      <td>176.6</td>\n",
       "      <td>66.4</td>\n",
       "      <td>54.3</td>\n",
       "      <td>2824</td>\n",
       "      <td>ohc</td>\n",
       "      <td>five</td>\n",
       "      <td>136</td>\n",
       "      <td>mpfi</td>\n",
       "      <td>3.19</td>\n",
       "      <td>3.40</td>\n",
       "      <td>8.0</td>\n",
       "      <td>115</td>\n",
       "      <td>5500</td>\n",
       "      <td>18</td>\n",
       "      <td>22</td>\n",
       "      <td>17450.0</td>\n",
       "    </tr>\n",
       "  </tbody>\n",
       "</table>\n",
       "</div>"
      ],
      "text/plain": [
       "   car_ID  symboling                   CarName fueltype aspiration doornumber  \\\n",
       "0       1          3        alfa-romero giulia      gas        std        two   \n",
       "1       2          3       alfa-romero stelvio      gas        std        two   \n",
       "2       3          1  alfa-romero Quadrifoglio      gas        std        two   \n",
       "3       4          2               audi 100 ls      gas        std       four   \n",
       "4       5          2                audi 100ls      gas        std       four   \n",
       "\n",
       "       carbody drivewheel enginelocation  wheelbase  carlength  carwidth  \\\n",
       "0  convertible        rwd          front       88.6      168.8      64.1   \n",
       "1  convertible        rwd          front       88.6      168.8      64.1   \n",
       "2    hatchback        rwd          front       94.5      171.2      65.5   \n",
       "3        sedan        fwd          front       99.8      176.6      66.2   \n",
       "4        sedan        4wd          front       99.4      176.6      66.4   \n",
       "\n",
       "   carheight  curbweight enginetype cylindernumber  enginesize fuelsystem  \\\n",
       "0       48.8        2548       dohc           four         130       mpfi   \n",
       "1       48.8        2548       dohc           four         130       mpfi   \n",
       "2       52.4        2823       ohcv            six         152       mpfi   \n",
       "3       54.3        2337        ohc           four         109       mpfi   \n",
       "4       54.3        2824        ohc           five         136       mpfi   \n",
       "\n",
       "   boreratio  stroke  compressionratio  horsepower  peakrpm  citympg  \\\n",
       "0       3.47    2.68               9.0         111     5000       21   \n",
       "1       3.47    2.68               9.0         111     5000       21   \n",
       "2       2.68    3.47               9.0         154     5000       19   \n",
       "3       3.19    3.40              10.0         102     5500       24   \n",
       "4       3.19    3.40               8.0         115     5500       18   \n",
       "\n",
       "   highwaympg    price  \n",
       "0          27  13495.0  \n",
       "1          27  16500.0  \n",
       "2          26  16500.0  \n",
       "3          30  13950.0  \n",
       "4          22  17450.0  "
      ]
     },
     "execution_count": 3,
     "metadata": {},
     "output_type": "execute_result"
    }
   ],
   "source": [
    "## print the top5 records\n",
    "dataset.head()"
   ]
  },
  {
   "cell_type": "code",
   "execution_count": 4,
   "id": "demographic-cherry",
   "metadata": {},
   "outputs": [
    {
     "data": {
      "text/html": [
       "<div>\n",
       "<style scoped>\n",
       "    .dataframe tbody tr th:only-of-type {\n",
       "        vertical-align: middle;\n",
       "    }\n",
       "\n",
       "    .dataframe tbody tr th {\n",
       "        vertical-align: top;\n",
       "    }\n",
       "\n",
       "    .dataframe thead th {\n",
       "        text-align: right;\n",
       "    }\n",
       "</style>\n",
       "<table border=\"1\" class=\"dataframe\">\n",
       "  <thead>\n",
       "    <tr style=\"text-align: right;\">\n",
       "      <th></th>\n",
       "      <th>car_ID</th>\n",
       "      <th>symboling</th>\n",
       "      <th>wheelbase</th>\n",
       "      <th>carlength</th>\n",
       "      <th>carwidth</th>\n",
       "      <th>carheight</th>\n",
       "      <th>curbweight</th>\n",
       "      <th>enginesize</th>\n",
       "      <th>boreratio</th>\n",
       "      <th>stroke</th>\n",
       "      <th>compressionratio</th>\n",
       "      <th>horsepower</th>\n",
       "      <th>peakrpm</th>\n",
       "      <th>citympg</th>\n",
       "      <th>highwaympg</th>\n",
       "      <th>price</th>\n",
       "    </tr>\n",
       "  </thead>\n",
       "  <tbody>\n",
       "    <tr>\n",
       "      <th>count</th>\n",
       "      <td>205.000000</td>\n",
       "      <td>205.000000</td>\n",
       "      <td>205.000000</td>\n",
       "      <td>205.000000</td>\n",
       "      <td>205.000000</td>\n",
       "      <td>205.000000</td>\n",
       "      <td>205.000000</td>\n",
       "      <td>205.000000</td>\n",
       "      <td>205.000000</td>\n",
       "      <td>205.000000</td>\n",
       "      <td>205.000000</td>\n",
       "      <td>205.000000</td>\n",
       "      <td>205.000000</td>\n",
       "      <td>205.000000</td>\n",
       "      <td>205.000000</td>\n",
       "      <td>205.000000</td>\n",
       "    </tr>\n",
       "    <tr>\n",
       "      <th>mean</th>\n",
       "      <td>103.000000</td>\n",
       "      <td>0.834146</td>\n",
       "      <td>98.756585</td>\n",
       "      <td>174.049268</td>\n",
       "      <td>65.907805</td>\n",
       "      <td>53.724878</td>\n",
       "      <td>2555.565854</td>\n",
       "      <td>126.907317</td>\n",
       "      <td>3.329756</td>\n",
       "      <td>3.255415</td>\n",
       "      <td>10.142537</td>\n",
       "      <td>104.117073</td>\n",
       "      <td>5125.121951</td>\n",
       "      <td>25.219512</td>\n",
       "      <td>30.751220</td>\n",
       "      <td>13276.710571</td>\n",
       "    </tr>\n",
       "    <tr>\n",
       "      <th>std</th>\n",
       "      <td>59.322565</td>\n",
       "      <td>1.245307</td>\n",
       "      <td>6.021776</td>\n",
       "      <td>12.337289</td>\n",
       "      <td>2.145204</td>\n",
       "      <td>2.443522</td>\n",
       "      <td>520.680204</td>\n",
       "      <td>41.642693</td>\n",
       "      <td>0.270844</td>\n",
       "      <td>0.313597</td>\n",
       "      <td>3.972040</td>\n",
       "      <td>39.544167</td>\n",
       "      <td>476.985643</td>\n",
       "      <td>6.542142</td>\n",
       "      <td>6.886443</td>\n",
       "      <td>7988.852332</td>\n",
       "    </tr>\n",
       "    <tr>\n",
       "      <th>min</th>\n",
       "      <td>1.000000</td>\n",
       "      <td>-2.000000</td>\n",
       "      <td>86.600000</td>\n",
       "      <td>141.100000</td>\n",
       "      <td>60.300000</td>\n",
       "      <td>47.800000</td>\n",
       "      <td>1488.000000</td>\n",
       "      <td>61.000000</td>\n",
       "      <td>2.540000</td>\n",
       "      <td>2.070000</td>\n",
       "      <td>7.000000</td>\n",
       "      <td>48.000000</td>\n",
       "      <td>4150.000000</td>\n",
       "      <td>13.000000</td>\n",
       "      <td>16.000000</td>\n",
       "      <td>5118.000000</td>\n",
       "    </tr>\n",
       "    <tr>\n",
       "      <th>25%</th>\n",
       "      <td>52.000000</td>\n",
       "      <td>0.000000</td>\n",
       "      <td>94.500000</td>\n",
       "      <td>166.300000</td>\n",
       "      <td>64.100000</td>\n",
       "      <td>52.000000</td>\n",
       "      <td>2145.000000</td>\n",
       "      <td>97.000000</td>\n",
       "      <td>3.150000</td>\n",
       "      <td>3.110000</td>\n",
       "      <td>8.600000</td>\n",
       "      <td>70.000000</td>\n",
       "      <td>4800.000000</td>\n",
       "      <td>19.000000</td>\n",
       "      <td>25.000000</td>\n",
       "      <td>7788.000000</td>\n",
       "    </tr>\n",
       "    <tr>\n",
       "      <th>50%</th>\n",
       "      <td>103.000000</td>\n",
       "      <td>1.000000</td>\n",
       "      <td>97.000000</td>\n",
       "      <td>173.200000</td>\n",
       "      <td>65.500000</td>\n",
       "      <td>54.100000</td>\n",
       "      <td>2414.000000</td>\n",
       "      <td>120.000000</td>\n",
       "      <td>3.310000</td>\n",
       "      <td>3.290000</td>\n",
       "      <td>9.000000</td>\n",
       "      <td>95.000000</td>\n",
       "      <td>5200.000000</td>\n",
       "      <td>24.000000</td>\n",
       "      <td>30.000000</td>\n",
       "      <td>10295.000000</td>\n",
       "    </tr>\n",
       "    <tr>\n",
       "      <th>75%</th>\n",
       "      <td>154.000000</td>\n",
       "      <td>2.000000</td>\n",
       "      <td>102.400000</td>\n",
       "      <td>183.100000</td>\n",
       "      <td>66.900000</td>\n",
       "      <td>55.500000</td>\n",
       "      <td>2935.000000</td>\n",
       "      <td>141.000000</td>\n",
       "      <td>3.580000</td>\n",
       "      <td>3.410000</td>\n",
       "      <td>9.400000</td>\n",
       "      <td>116.000000</td>\n",
       "      <td>5500.000000</td>\n",
       "      <td>30.000000</td>\n",
       "      <td>34.000000</td>\n",
       "      <td>16503.000000</td>\n",
       "    </tr>\n",
       "    <tr>\n",
       "      <th>max</th>\n",
       "      <td>205.000000</td>\n",
       "      <td>3.000000</td>\n",
       "      <td>120.900000</td>\n",
       "      <td>208.100000</td>\n",
       "      <td>72.300000</td>\n",
       "      <td>59.800000</td>\n",
       "      <td>4066.000000</td>\n",
       "      <td>326.000000</td>\n",
       "      <td>3.940000</td>\n",
       "      <td>4.170000</td>\n",
       "      <td>23.000000</td>\n",
       "      <td>288.000000</td>\n",
       "      <td>6600.000000</td>\n",
       "      <td>49.000000</td>\n",
       "      <td>54.000000</td>\n",
       "      <td>45400.000000</td>\n",
       "    </tr>\n",
       "  </tbody>\n",
       "</table>\n",
       "</div>"
      ],
      "text/plain": [
       "           car_ID   symboling   wheelbase   carlength    carwidth   carheight  \\\n",
       "count  205.000000  205.000000  205.000000  205.000000  205.000000  205.000000   \n",
       "mean   103.000000    0.834146   98.756585  174.049268   65.907805   53.724878   \n",
       "std     59.322565    1.245307    6.021776   12.337289    2.145204    2.443522   \n",
       "min      1.000000   -2.000000   86.600000  141.100000   60.300000   47.800000   \n",
       "25%     52.000000    0.000000   94.500000  166.300000   64.100000   52.000000   \n",
       "50%    103.000000    1.000000   97.000000  173.200000   65.500000   54.100000   \n",
       "75%    154.000000    2.000000  102.400000  183.100000   66.900000   55.500000   \n",
       "max    205.000000    3.000000  120.900000  208.100000   72.300000   59.800000   \n",
       "\n",
       "        curbweight  enginesize   boreratio      stroke  compressionratio  \\\n",
       "count   205.000000  205.000000  205.000000  205.000000        205.000000   \n",
       "mean   2555.565854  126.907317    3.329756    3.255415         10.142537   \n",
       "std     520.680204   41.642693    0.270844    0.313597          3.972040   \n",
       "min    1488.000000   61.000000    2.540000    2.070000          7.000000   \n",
       "25%    2145.000000   97.000000    3.150000    3.110000          8.600000   \n",
       "50%    2414.000000  120.000000    3.310000    3.290000          9.000000   \n",
       "75%    2935.000000  141.000000    3.580000    3.410000          9.400000   \n",
       "max    4066.000000  326.000000    3.940000    4.170000         23.000000   \n",
       "\n",
       "       horsepower      peakrpm     citympg  highwaympg         price  \n",
       "count  205.000000   205.000000  205.000000  205.000000    205.000000  \n",
       "mean   104.117073  5125.121951   25.219512   30.751220  13276.710571  \n",
       "std     39.544167   476.985643    6.542142    6.886443   7988.852332  \n",
       "min     48.000000  4150.000000   13.000000   16.000000   5118.000000  \n",
       "25%     70.000000  4800.000000   19.000000   25.000000   7788.000000  \n",
       "50%     95.000000  5200.000000   24.000000   30.000000  10295.000000  \n",
       "75%    116.000000  5500.000000   30.000000   34.000000  16503.000000  \n",
       "max    288.000000  6600.000000   49.000000   54.000000  45400.000000  "
      ]
     },
     "execution_count": 4,
     "metadata": {},
     "output_type": "execute_result"
    }
   ],
   "source": [
    "dataset.describe()"
   ]
  },
  {
   "cell_type": "code",
   "execution_count": 5,
   "id": "academic-addiction",
   "metadata": {},
   "outputs": [
    {
     "name": "stdout",
     "output_type": "stream",
     "text": [
      "<class 'pandas.core.frame.DataFrame'>\n",
      "RangeIndex: 205 entries, 0 to 204\n",
      "Data columns (total 26 columns):\n",
      " #   Column            Non-Null Count  Dtype  \n",
      "---  ------            --------------  -----  \n",
      " 0   car_ID            205 non-null    int64  \n",
      " 1   symboling         205 non-null    int64  \n",
      " 2   CarName           205 non-null    object \n",
      " 3   fueltype          205 non-null    object \n",
      " 4   aspiration        205 non-null    object \n",
      " 5   doornumber        205 non-null    object \n",
      " 6   carbody           205 non-null    object \n",
      " 7   drivewheel        205 non-null    object \n",
      " 8   enginelocation    205 non-null    object \n",
      " 9   wheelbase         205 non-null    float64\n",
      " 10  carlength         205 non-null    float64\n",
      " 11  carwidth          205 non-null    float64\n",
      " 12  carheight         205 non-null    float64\n",
      " 13  curbweight        205 non-null    int64  \n",
      " 14  enginetype        205 non-null    object \n",
      " 15  cylindernumber    205 non-null    object \n",
      " 16  enginesize        205 non-null    int64  \n",
      " 17  fuelsystem        205 non-null    object \n",
      " 18  boreratio         205 non-null    float64\n",
      " 19  stroke            205 non-null    float64\n",
      " 20  compressionratio  205 non-null    float64\n",
      " 21  horsepower        205 non-null    int64  \n",
      " 22  peakrpm           205 non-null    int64  \n",
      " 23  citympg           205 non-null    int64  \n",
      " 24  highwaympg        205 non-null    int64  \n",
      " 25  price             205 non-null    float64\n",
      "dtypes: float64(8), int64(8), object(10)\n",
      "memory usage: 41.8+ KB\n"
     ]
    }
   ],
   "source": [
    "dataset.info()"
   ]
  },
  {
   "cell_type": "markdown",
   "id": "amino-understanding",
   "metadata": {},
   "source": [
    "- Dataset is clean and no substitution of Null values is required"
   ]
  },
  {
   "cell_type": "code",
   "execution_count": 6,
   "id": "dental-apparel",
   "metadata": {},
   "outputs": [],
   "source": [
    "## Removing the car_ID feature\n",
    "dataset=dataset.drop('car_ID',axis=1)"
   ]
  },
  {
   "cell_type": "markdown",
   "id": "conscious-lover",
   "metadata": {},
   "source": [
    "## Preprocessing of Data"
   ]
  },
  {
   "cell_type": "code",
   "execution_count": 7,
   "id": "fifteen-shipping",
   "metadata": {},
   "outputs": [],
   "source": [
    "## CarName Variable has two parts:1.Company name && 2.Model name\n",
    "##CarName-->CompanyName\n",
    "#Each element of the CarName column will be split into two Strings, and we will only keep the first one\n",
    "CompanyName = dataset['CarName'].apply(lambda x : x.split(' ')[0])\n",
    "\n",
    "#Insert the new variable as a column in our dataset\n",
    "dataset.insert(3,\"CompanyName\",CompanyName)\n",
    "\n",
    "#Remove CarModel column\n",
    "dataset.drop(['CarName'],axis=1,inplace=True)\n"
   ]
  },
  {
   "cell_type": "code",
   "execution_count": 8,
   "id": "timely-bhutan",
   "metadata": {},
   "outputs": [
    {
     "data": {
      "text/plain": [
       "array(['alfa-romero', 'audi', 'bmw', 'chevrolet', 'dodge', 'honda',\n",
       "       'isuzu', 'jaguar', 'maxda', 'mazda', 'buick', 'mercury',\n",
       "       'mitsubishi', 'Nissan', 'nissan', 'peugeot', 'plymouth', 'porsche',\n",
       "       'porcshce', 'renault', 'saab', 'subaru', 'toyota', 'toyouta',\n",
       "       'vokswagen', 'volkswagen', 'vw', 'volvo'], dtype=object)"
      ]
     },
     "execution_count": 8,
     "metadata": {},
     "output_type": "execute_result"
    }
   ],
   "source": [
    "#unique values (companyname)\n",
    "dataset.CompanyName.unique()"
   ]
  },
  {
   "cell_type": "code",
   "execution_count": 9,
   "id": "hearing-philadelphia",
   "metadata": {},
   "outputs": [
    {
     "data": {
      "text/plain": [
       "28"
      ]
     },
     "execution_count": 9,
     "metadata": {},
     "output_type": "execute_result"
    }
   ],
   "source": [
    "len(dataset.CompanyName.unique())"
   ]
  },
  {
   "cell_type": "code",
   "execution_count": 10,
   "id": "ambient-diversity",
   "metadata": {},
   "outputs": [
    {
     "name": "stdout",
     "output_type": "stream",
     "text": [
      "['alfa-romero' 'audi' 'bmw' 'chevrolet' 'dodge' 'honda' 'isuzu' 'jaguar'\n",
      " 'mazda' 'buick' 'mercury' 'mitsubishi' 'nissan' 'peugeot' 'plymouth'\n",
      " 'porsche' 'renault' 'saab' 'subaru' 'toyota' 'volkswagen' 'volvo']\n",
      "22\n"
     ]
    }
   ],
   "source": [
    "#Correction (spelling error)\n",
    "dataset.CompanyName = dataset.CompanyName.str.lower()\n",
    "\n",
    "def new_name(a,b):\n",
    "    dataset.CompanyName.replace(a,b,inplace=True)\n",
    "\n",
    "new_name('maxda','mazda')\n",
    "new_name('porcshce','porsche')\n",
    "new_name('toyouta','toyota')\n",
    "new_name('vokswagen','volkswagen')\n",
    "new_name('vw','volkswagen')\n",
    "\n",
    "print(dataset.CompanyName.unique())\n",
    "print(len(dataset.CompanyName.unique()))"
   ]
  },
  {
   "cell_type": "markdown",
   "id": "academic-seating",
   "metadata": {},
   "source": [
    "**2. Examine categorical variables and correct them if spelling errors are found**"
   ]
  },
  {
   "cell_type": "code",
   "execution_count": 11,
   "id": "ethical-lotus",
   "metadata": {},
   "outputs": [],
   "source": [
    "def get_variable_type(element) :\n",
    "    \"\"\"\n",
    "     Check that the columns are of continuous or categorical variable.\n",
    "     The assumption is that if:\n",
    "                  unique number < 20 then we assume it is categorical\n",
    "                  unique number >= 20 and dtype = [int64 or float64] then we assume it's continuous\n",
    "     \"\"\"\n",
    "    if element==0:\n",
    "        return \"Not Known\"\n",
    "    elif element < 20 and element!=0 :\n",
    "        return \"Categorical\"\n",
    "    elif element >= 20 and element!=0 :\n",
    "        return \"Contineous\"\n",
    "    \n",
    "def predict_variable_type(metadata_matrix):\n",
    "    metadata_matrix[\"Variable_Type\"] = metadata_matrix[\"Unique_Values_Count\"].apply(get_variable_type).astype(str)\n",
    "    metadata_matrix[\"frequency\"] = metadata_matrix[\"Null_Count\"] - metadata_matrix[\"Null_Count\"]\n",
    "    metadata_matrix[\"frequency\"].astype(int)\n",
    "    return metadata_matrix \n",
    "\n",
    "def get_meta_data(dataframe) :\n",
    "    \"\"\"\n",
    "     Method to get metadata about any passed dataset\n",
    "    \"\"\"\n",
    "    metadata_matrix = pd.DataFrame({\n",
    "                    'Datatype' : dataframe.dtypes.astype(str), # column data types\n",
    "                    'Non_Null_Count': dataframe.count(axis = 0).astype(int), # total number of items in columns\n",
    "                    'Null_Count': dataframe.isnull().sum().astype(int), # total null values ​​in columns\n",
    "                    'Null_Percentage': dataframe.isnull().sum()/len(dataframe) * 100, # percentage of null values\n",
    "                    'Unique_Values_Count': dataframe.nunique().astype(int) # nombre de valeurs uniques\n",
    "                     })\n",
    "    \n",
    "    metadata_matrix = predict_variable_type(metadata_matrix)\n",
    "    return metadata_matrix\n",
    "\n",
    "def list_potential_categorical_type(dataframe,data) :\n",
    "    print(\"*********potential categorical data type columns*********\")\n",
    "    metadata_matrix_categorical = dataframe[dataframe[\"Variable_Type\"] == \"Categorical\"]\n",
    "    \n",
    "    length = len(metadata_matrix_categorical)\n",
    "    if length == 0 :\n",
    "        print(\"No categorical columns in a given dataset.\")  \n",
    "    else :    \n",
    "        metadata_matrix_categorical = metadata_matrix_categorical.filter([\"Datatype\",\"Unique_Values_Count\"])\n",
    "        metadata_matrix_categorical.sort_values([\"Unique_Values_Count\"], axis=0,ascending=False, inplace=True)\n",
    "        col_to_check = metadata_matrix_categorical.index.tolist()\n",
    "        name_list = []\n",
    "        values_list = []\n",
    "        \n",
    "        for name in col_to_check :\n",
    "            name_list.append(name)\n",
    "            values_list.append(data[name].unique())\n",
    "        \n",
    "        temp = pd.DataFrame({\"index\":name_list,\"Unique_Values\":values_list})\n",
    "        metadata_matrix_categorical = metadata_matrix_categorical.reset_index()\n",
    "        metadata_matrix_categorical = pd.merge(metadata_matrix_categorical,temp,how='inner',on='index')\n",
    "        display(metadata_matrix_categorical.set_index(\"index\"))"
   ]
  },
  {
   "cell_type": "code",
   "execution_count": 12,
   "id": "appreciated-newman",
   "metadata": {},
   "outputs": [
    {
     "name": "stdout",
     "output_type": "stream",
     "text": [
      "*********potential categorical data type columns*********\n"
     ]
    },
    {
     "data": {
      "text/html": [
       "<div>\n",
       "<style scoped>\n",
       "    .dataframe tbody tr th:only-of-type {\n",
       "        vertical-align: middle;\n",
       "    }\n",
       "\n",
       "    .dataframe tbody tr th {\n",
       "        vertical-align: top;\n",
       "    }\n",
       "\n",
       "    .dataframe thead th {\n",
       "        text-align: right;\n",
       "    }\n",
       "</style>\n",
       "<table border=\"1\" class=\"dataframe\">\n",
       "  <thead>\n",
       "    <tr style=\"text-align: right;\">\n",
       "      <th></th>\n",
       "      <th>Datatype</th>\n",
       "      <th>Unique_Values_Count</th>\n",
       "      <th>Unique_Values</th>\n",
       "    </tr>\n",
       "    <tr>\n",
       "      <th>index</th>\n",
       "      <th></th>\n",
       "      <th></th>\n",
       "      <th></th>\n",
       "    </tr>\n",
       "  </thead>\n",
       "  <tbody>\n",
       "    <tr>\n",
       "      <th>fuelsystem</th>\n",
       "      <td>object</td>\n",
       "      <td>8</td>\n",
       "      <td>[mpfi, 2bbl, mfi, 1bbl, spfi, 4bbl, idi, spdi]</td>\n",
       "    </tr>\n",
       "    <tr>\n",
       "      <th>enginetype</th>\n",
       "      <td>object</td>\n",
       "      <td>7</td>\n",
       "      <td>[dohc, ohcv, ohc, l, rotor, ohcf, dohcv]</td>\n",
       "    </tr>\n",
       "    <tr>\n",
       "      <th>cylindernumber</th>\n",
       "      <td>object</td>\n",
       "      <td>7</td>\n",
       "      <td>[four, six, five, three, twelve, two, eight]</td>\n",
       "    </tr>\n",
       "    <tr>\n",
       "      <th>symboling</th>\n",
       "      <td>int64</td>\n",
       "      <td>6</td>\n",
       "      <td>[3, 1, 2, 0, -1, -2]</td>\n",
       "    </tr>\n",
       "    <tr>\n",
       "      <th>carbody</th>\n",
       "      <td>object</td>\n",
       "      <td>5</td>\n",
       "      <td>[convertible, hatchback, sedan, wagon, hardtop]</td>\n",
       "    </tr>\n",
       "    <tr>\n",
       "      <th>drivewheel</th>\n",
       "      <td>object</td>\n",
       "      <td>3</td>\n",
       "      <td>[rwd, fwd, 4wd]</td>\n",
       "    </tr>\n",
       "    <tr>\n",
       "      <th>fueltype</th>\n",
       "      <td>object</td>\n",
       "      <td>2</td>\n",
       "      <td>[gas, diesel]</td>\n",
       "    </tr>\n",
       "    <tr>\n",
       "      <th>aspiration</th>\n",
       "      <td>object</td>\n",
       "      <td>2</td>\n",
       "      <td>[std, turbo]</td>\n",
       "    </tr>\n",
       "    <tr>\n",
       "      <th>doornumber</th>\n",
       "      <td>object</td>\n",
       "      <td>2</td>\n",
       "      <td>[two, four]</td>\n",
       "    </tr>\n",
       "    <tr>\n",
       "      <th>enginelocation</th>\n",
       "      <td>object</td>\n",
       "      <td>2</td>\n",
       "      <td>[front, rear]</td>\n",
       "    </tr>\n",
       "  </tbody>\n",
       "</table>\n",
       "</div>"
      ],
      "text/plain": [
       "               Datatype  Unique_Values_Count  \\\n",
       "index                                          \n",
       "fuelsystem       object                    8   \n",
       "enginetype       object                    7   \n",
       "cylindernumber   object                    7   \n",
       "symboling         int64                    6   \n",
       "carbody          object                    5   \n",
       "drivewheel       object                    3   \n",
       "fueltype         object                    2   \n",
       "aspiration       object                    2   \n",
       "doornumber       object                    2   \n",
       "enginelocation   object                    2   \n",
       "\n",
       "                                                  Unique_Values  \n",
       "index                                                            \n",
       "fuelsystem       [mpfi, 2bbl, mfi, 1bbl, spfi, 4bbl, idi, spdi]  \n",
       "enginetype             [dohc, ohcv, ohc, l, rotor, ohcf, dohcv]  \n",
       "cylindernumber     [four, six, five, three, twelve, two, eight]  \n",
       "symboling                                  [3, 1, 2, 0, -1, -2]  \n",
       "carbody         [convertible, hatchback, sedan, wagon, hardtop]  \n",
       "drivewheel                                      [rwd, fwd, 4wd]  \n",
       "fueltype                                          [gas, diesel]  \n",
       "aspiration                                         [std, turbo]  \n",
       "doornumber                                          [two, four]  \n",
       "enginelocation                                    [front, rear]  "
      ]
     },
     "metadata": {},
     "output_type": "display_data"
    }
   ],
   "source": [
    "metadata = get_meta_data(dataset)\n",
    "\n",
    "#List potential columns of categorical variables\n",
    "list_potential_categorical_type(metadata,dataset)"
   ]
  },
  {
   "cell_type": "markdown",
   "id": "demanding-interference",
   "metadata": {},
   "source": [
    "But there is another variable that is not considered categorical. It's the column \"CompanyName\"."
   ]
  },
  {
   "cell_type": "markdown",
   "id": "loose-experience",
   "metadata": {},
   "source": [
    "## Exploratory data analysis"
   ]
  },
  {
   "cell_type": "markdown",
   "id": "divine-sport",
   "metadata": {},
   "source": [
    "## Numerical Faeatures"
   ]
  },
  {
   "cell_type": "code",
   "execution_count": 13,
   "id": "fantastic-waste",
   "metadata": {},
   "outputs": [
    {
     "name": "stdout",
     "output_type": "stream",
     "text": [
      "Number of numerical variables:  15\n"
     ]
    },
    {
     "data": {
      "text/html": [
       "<div>\n",
       "<style scoped>\n",
       "    .dataframe tbody tr th:only-of-type {\n",
       "        vertical-align: middle;\n",
       "    }\n",
       "\n",
       "    .dataframe tbody tr th {\n",
       "        vertical-align: top;\n",
       "    }\n",
       "\n",
       "    .dataframe thead th {\n",
       "        text-align: right;\n",
       "    }\n",
       "</style>\n",
       "<table border=\"1\" class=\"dataframe\">\n",
       "  <thead>\n",
       "    <tr style=\"text-align: right;\">\n",
       "      <th></th>\n",
       "      <th>symboling</th>\n",
       "      <th>wheelbase</th>\n",
       "      <th>carlength</th>\n",
       "      <th>carwidth</th>\n",
       "      <th>carheight</th>\n",
       "      <th>curbweight</th>\n",
       "      <th>enginesize</th>\n",
       "      <th>boreratio</th>\n",
       "      <th>stroke</th>\n",
       "      <th>compressionratio</th>\n",
       "      <th>horsepower</th>\n",
       "      <th>peakrpm</th>\n",
       "      <th>citympg</th>\n",
       "      <th>highwaympg</th>\n",
       "      <th>price</th>\n",
       "    </tr>\n",
       "  </thead>\n",
       "  <tbody>\n",
       "    <tr>\n",
       "      <th>0</th>\n",
       "      <td>3</td>\n",
       "      <td>88.6</td>\n",
       "      <td>168.8</td>\n",
       "      <td>64.1</td>\n",
       "      <td>48.8</td>\n",
       "      <td>2548</td>\n",
       "      <td>130</td>\n",
       "      <td>3.47</td>\n",
       "      <td>2.68</td>\n",
       "      <td>9.0</td>\n",
       "      <td>111</td>\n",
       "      <td>5000</td>\n",
       "      <td>21</td>\n",
       "      <td>27</td>\n",
       "      <td>13495.0</td>\n",
       "    </tr>\n",
       "    <tr>\n",
       "      <th>1</th>\n",
       "      <td>3</td>\n",
       "      <td>88.6</td>\n",
       "      <td>168.8</td>\n",
       "      <td>64.1</td>\n",
       "      <td>48.8</td>\n",
       "      <td>2548</td>\n",
       "      <td>130</td>\n",
       "      <td>3.47</td>\n",
       "      <td>2.68</td>\n",
       "      <td>9.0</td>\n",
       "      <td>111</td>\n",
       "      <td>5000</td>\n",
       "      <td>21</td>\n",
       "      <td>27</td>\n",
       "      <td>16500.0</td>\n",
       "    </tr>\n",
       "    <tr>\n",
       "      <th>2</th>\n",
       "      <td>1</td>\n",
       "      <td>94.5</td>\n",
       "      <td>171.2</td>\n",
       "      <td>65.5</td>\n",
       "      <td>52.4</td>\n",
       "      <td>2823</td>\n",
       "      <td>152</td>\n",
       "      <td>2.68</td>\n",
       "      <td>3.47</td>\n",
       "      <td>9.0</td>\n",
       "      <td>154</td>\n",
       "      <td>5000</td>\n",
       "      <td>19</td>\n",
       "      <td>26</td>\n",
       "      <td>16500.0</td>\n",
       "    </tr>\n",
       "    <tr>\n",
       "      <th>3</th>\n",
       "      <td>2</td>\n",
       "      <td>99.8</td>\n",
       "      <td>176.6</td>\n",
       "      <td>66.2</td>\n",
       "      <td>54.3</td>\n",
       "      <td>2337</td>\n",
       "      <td>109</td>\n",
       "      <td>3.19</td>\n",
       "      <td>3.40</td>\n",
       "      <td>10.0</td>\n",
       "      <td>102</td>\n",
       "      <td>5500</td>\n",
       "      <td>24</td>\n",
       "      <td>30</td>\n",
       "      <td>13950.0</td>\n",
       "    </tr>\n",
       "    <tr>\n",
       "      <th>4</th>\n",
       "      <td>2</td>\n",
       "      <td>99.4</td>\n",
       "      <td>176.6</td>\n",
       "      <td>66.4</td>\n",
       "      <td>54.3</td>\n",
       "      <td>2824</td>\n",
       "      <td>136</td>\n",
       "      <td>3.19</td>\n",
       "      <td>3.40</td>\n",
       "      <td>8.0</td>\n",
       "      <td>115</td>\n",
       "      <td>5500</td>\n",
       "      <td>18</td>\n",
       "      <td>22</td>\n",
       "      <td>17450.0</td>\n",
       "    </tr>\n",
       "  </tbody>\n",
       "</table>\n",
       "</div>"
      ],
      "text/plain": [
       "   symboling  wheelbase  carlength  carwidth  carheight  curbweight  \\\n",
       "0          3       88.6      168.8      64.1       48.8        2548   \n",
       "1          3       88.6      168.8      64.1       48.8        2548   \n",
       "2          1       94.5      171.2      65.5       52.4        2823   \n",
       "3          2       99.8      176.6      66.2       54.3        2337   \n",
       "4          2       99.4      176.6      66.4       54.3        2824   \n",
       "\n",
       "   enginesize  boreratio  stroke  compressionratio  horsepower  peakrpm  \\\n",
       "0         130       3.47    2.68               9.0         111     5000   \n",
       "1         130       3.47    2.68               9.0         111     5000   \n",
       "2         152       2.68    3.47               9.0         154     5000   \n",
       "3         109       3.19    3.40              10.0         102     5500   \n",
       "4         136       3.19    3.40               8.0         115     5500   \n",
       "\n",
       "   citympg  highwaympg    price  \n",
       "0       21          27  13495.0  \n",
       "1       21          27  16500.0  \n",
       "2       19          26  16500.0  \n",
       "3       24          30  13950.0  \n",
       "4       18          22  17450.0  "
      ]
     },
     "execution_count": 13,
     "metadata": {},
     "output_type": "execute_result"
    }
   ],
   "source": [
    "# list of numerical variables\n",
    "numerical_features = [feature for feature in dataset.columns if dataset[feature].dtypes != 'O']\n",
    "print('Number of numerical variables: ', len(numerical_features))\n",
    "\n",
    "# visualise the numerical variables\n",
    "dataset[numerical_features].head()"
   ]
  },
  {
   "cell_type": "markdown",
   "id": "dietary-manchester",
   "metadata": {},
   "source": [
    "# Dependent variable visualization: Price"
   ]
  },
  {
   "cell_type": "code",
   "execution_count": 14,
   "id": "worse-fifth",
   "metadata": {},
   "outputs": [
    {
     "data": {
      "image/png": "[encoded data removed]",
      "text/plain": [
       "<Figure size 432x288 with 1 Axes>"
      ]
     },
     "metadata": {
      "needs_background": "light"
     },
     "output_type": "display_data"
    },
    {
     "name": "stdout",
     "output_type": "stream",
     "text": [
      "count      205.000000\n",
      "mean     13276.710571\n",
      "std       7988.852332\n",
      "min       5118.000000\n",
      "25%       7788.000000\n",
      "50%      10295.000000\n",
      "75%      16503.000000\n",
      "max      45400.000000\n",
      "Name: price, dtype: float64\n"
     ]
    }
   ],
   "source": [
    "plt.title('Car Price Spread')\n",
    "sns.boxplot(y=dataset.price)\n",
    "plt.show()\n",
    "print(dataset.price.describe())"
   ]
  },
  {
   "cell_type": "markdown",
   "id": "pursuant-bradford",
   "metadata": {},
   "source": [
    "the price field has an average around 13K and a median around 10k with the most expensive car values at 45k and the cheapest cars at 5k.\n",
    "\n",
    "- Since we have mean > median, then our distribution is positively asymmetric, as we can see in the following histogram:"
   ]
  },
  {
   "cell_type": "code",
   "execution_count": 15,
   "id": "finnish-stocks",
   "metadata": {},
   "outputs": [
    {
     "name": "stderr",
     "output_type": "stream",
     "text": [
      "<ipython-input-15-f444d12e1800>:2: UserWarning: \n",
      "\n",
      "`distplot` is a deprecated function and will be removed in seaborn v0.14.0.\n",
      "\n",
      "Please adapt your code to use either `displot` (a figure-level function with\n",
      "similar flexibility) or `histplot` (an axes-level function for histograms).\n",
      "\n",
      "For a guide to updating your code to use the new functions, please see\n",
      "https://gist.github.com/mwaskom/de44147ed2974457ad6372750bbe5751\n",
      "\n",
      "  sns.distplot(dataset.price)\n"
     ]
    },
    {
     "data": {
      "image/png": "[encoded data removed]",
      "text/plain": [
       "<Figure size 432x288 with 1 Axes>"
      ]
     },
     "metadata": {
      "needs_background": "light"
     },
     "output_type": "display_data"
    }
   ],
   "source": [
    "plt.title('Car Price Distribution Plot')\n",
    "sns.distplot(dataset.price)\n",
    "plt.show()"
   ]
  },
  {
   "cell_type": "markdown",
   "id": "intermediate-wireless",
   "metadata": {},
   "source": [
    "**Conclusion**\n",
    "\n",
    "Which means that most of the prices offered by this company are low.\n",
    "\n",
    "As seen below, we have **75%** prices are around **16k**, or **25%** between **17k and 45k**."
   ]
  },
  {
   "cell_type": "markdown",
   "id": "identified-advice",
   "metadata": {},
   "source": [
    "# Visualization of independent variables:"
   ]
  },
  {
   "cell_type": "markdown",
   "id": "damaged-heavy",
   "metadata": {},
   "source": [
    "**linear relationship between the dependent variable \"Price\" and the numerical independent variables**\n",
    "- Draw XY scatter plot, and check are they linear or not?"
   ]
  },
  {
   "cell_type": "code",
   "execution_count": 16,
   "id": "knowing-policy",
   "metadata": {},
   "outputs": [
    {
     "name": "stderr",
     "output_type": "stream",
     "text": [
      "<ipython-input-16-d0baf91f2591>:2: DeprecationWarning: Please use `pearsonr` from the `scipy.stats` namespace, the `scipy.stats.stats` namespace is deprecated.\n",
      "  from scipy.stats.stats import pearsonr\n"
     ]
    }
   ],
   "source": [
    "import scipy\n",
    "from scipy.stats.stats import pearsonr\n",
    "\n",
    "def pairplot(x_axis,y_axis) :\n",
    "    sns.pairplot(dataset,x_vars=x_axis,y_vars=y_axis,height=4,aspect=1,kind=\"scatter\")\n",
    "    plt.show()"
   ]
  },
  {
   "cell_type": "code",
   "execution_count": 17,
   "id": "determined-twist",
   "metadata": {},
   "outputs": [],
   "source": [
    "#Determine the independent variable\n",
    "y_vars=['price']"
   ]
  },
  {
   "cell_type": "markdown",
   "id": "compliant-break",
   "metadata": {},
   "source": [
    "**Price VS Wheelbase - curbweight - boreratio**"
   ]
  },
  {
   "cell_type": "code",
   "execution_count": 18,
   "id": "sweet-peninsula",
   "metadata": {},
   "outputs": [
    {
     "data": {
      "image/png": "[encoded data removed]",
      "text/plain": [
       "<Figure size 864x288 with 3 Axes>"
      ]
     },
     "metadata": {
      "needs_background": "light"
     },
     "output_type": "display_data"
    },
    {
     "name": "stdout",
     "output_type": "stream",
     "text": [
      "At first glance, the 3 variables are positively correlated but spread at higher values.\n",
      "\n",
      "We can make sure of this by looking at the Coefficient of Correlation\n",
      "\n",
      "Coefficient of Correlation between Price and wheelbase: 57.78155982921503 %\n",
      "Correlation coefficient between Price and curbweight: 83.53048793372967 %\n",
      "Correlation coefficient between Price and boreratio:  55.317323679844364 %\n"
     ]
    }
   ],
   "source": [
    "x_vars=['wheelbase','curbweight','boreratio']\n",
    "pairplot(x_vars,y_vars)\n",
    "print(\"At first glance, the 3 variables are positively correlated but spread at higher values.\")\n",
    "\n",
    "p1=dataset['wheelbase']\n",
    "p2=dataset['curbweight']\n",
    "p3=dataset['boreratio']\n",
    "\n",
    "pearson_coeff, p_value = pearsonr(p1,dataset['price'])\n",
    "print('\\nWe can make sure of this by looking at the Coefficient of Correlation')\n",
    "print('\\nCoefficient of Correlation between Price and wheelbase:',pearson_coeff*100,'%')\n",
    "\n",
    "pearson_coeff, p_value = pearsonr(p2,dataset['price'])\n",
    "print('Correlation coefficient between Price and curbweight:',pearson_coeff*100,'%')\n",
    "\n",
    "pearson_coeff, p_value = pearsonr(p3,dataset['price'])\n",
    "print('Correlation coefficient between Price and boreratio: ',pearson_coeff*100,'%')"
   ]
  },
  {
   "cell_type": "code",
   "execution_count": 19,
   "id": "seasonal-doctrine",
   "metadata": {},
   "outputs": [
    {
     "data": {
      "image/png": "[encoded data removed]",
      "text/plain": [
       "<Figure size 864x288 with 3 Axes>"
      ]
     },
     "metadata": {
      "needs_background": "light"
     },
     "output_type": "display_data"
    },
    {
     "name": "stdout",
     "output_type": "stream",
     "text": [
      "Carlength and Carwidth are more correlated than carheight which is more spread out but positive.\n",
      "\n",
      "We can make sure of this by looking at the Coefficient of Correlation\n",
      "\n",
      "Correlation coefficient between Price and carlength: 68.2920015677962 %\n",
      "Correlation coefficient between Price and carwidth:  75.93252997415115 %\n",
      "Correlation coefficient between Price and carheight:  11.933622657049447 %\n"
     ]
    }
   ],
   "source": [
    "# **Price VS carlength - carwidth - carheight**\n",
    "x_vars=['carlength','carwidth', 'carheight']\n",
    "pairplot(x_vars,y_vars)\n",
    "print(\"Carlength and Carwidth are more correlated than carheight which is more spread out but positive.\")\n",
    "\n",
    "p1=dataset['carlength']\n",
    "p2=dataset['carwidth']\n",
    "p3=dataset['carheight']\n",
    "\n",
    "pearson_coeff, p_value = pearsonr(p1,dataset['price'])\n",
    "print('\\nWe can make sure of this by looking at the Coefficient of Correlation')\n",
    "print('\\nCorrelation coefficient between Price and carlength:',pearson_coeff*100,'%')\n",
    "\n",
    "pearson_coeff, p_value = pearsonr(p2,dataset['price'])\n",
    "print('Correlation coefficient between Price and carwidth: ',pearson_coeff*100,'%')\n",
    "\n",
    "pearson_coeff, p_value = pearsonr(p3,dataset['price'])\n",
    "print('Correlation coefficient between Price and carheight: ',pearson_coeff*100,'%')"
   ]
  },
  {
   "cell_type": "code",
   "execution_count": 20,
   "id": "structured-lloyd",
   "metadata": {},
   "outputs": [
    {
     "data": {
      "image/png": "[encoded data removed]",
      "text/plain": [
       "<Figure size 864x288 with 3 Axes>"
      ]
     },
     "metadata": {
      "needs_background": "light"
     },
     "output_type": "display_data"
    },
    {
     "name": "stdout",
     "output_type": "stream",
     "text": [
      "Enginesize and Horsepower are positively correlated, but Stroke is more spread out (may not be related).\n",
      "\n",
      "We can make sure of this by looking at the Coefficient of Correlation\n",
      "\n",
      "Correlation coefficient between Price and enginesize:  87.41448025245117 %\n",
      "Correlation coefficient between Price and horsepower:  80.81388225362217 %\n",
      "Correlation coefficient between Price and stroke:  7.944308388193101 %\n"
     ]
    }
   ],
   "source": [
    "x_vars=['enginesize','horsepower','stroke']\n",
    "pairplot(x_vars,y_vars)\n",
    "print(\"Enginesize and Horsepower are positively correlated, but Stroke is more spread out (may not be related).\")\n",
    "\n",
    "p1=dataset['enginesize']\n",
    "p2=dataset['horsepower']\n",
    "p3=dataset['stroke']\n",
    "\n",
    "pearson_coeff, p_value = pearsonr(p1,dataset['price'])\n",
    "print('\\nWe can make sure of this by looking at the Coefficient of Correlation')\n",
    "print('\\nCorrelation coefficient between Price and enginesize: ',pearson_coeff*100,'%')\n",
    "\n",
    "pearson_coeff, p_value = pearsonr(p2,dataset['price'])\n",
    "print('Correlation coefficient between Price and horsepower: ',pearson_coeff*100,'%')\n",
    "\n",
    "pearson_coeff, p_value = pearsonr(p3,dataset['price'])\n",
    "print('Correlation coefficient between Price and stroke: ',pearson_coeff*100,'%')"
   ]
  },
  {
   "cell_type": "code",
   "execution_count": 21,
   "id": "particular-national",
   "metadata": {},
   "outputs": [
    {
     "data": {
      "image/png": "[encoded data removed]",
      "text/plain": [
       "<Figure size 864x288 with 3 Axes>"
      ]
     },
     "metadata": {
      "needs_background": "light"
     },
     "output_type": "display_data"
    },
    {
     "name": "stdout",
     "output_type": "stream",
     "text": [
      "Compressionratio, Peakrpm and symboling are not correlated.\n",
      "\n",
      "We can make sure of this by looking at the Coefficient of Correlation\n",
      "\n",
      "Correlation coefficient between Price and compressionratio:  6.798350579944263 %\n",
      "Correlation coefficient between Price and peakrpm:  -8.526715027785688 %\n",
      "Correlation coefficient between Price and symboling:  -7.997822464270349 %\n"
     ]
    }
   ],
   "source": [
    "x_vars=['compressionratio','peakrpm',\"symboling\"]\n",
    "pairplot(x_vars,y_vars)\n",
    "print(\"Compressionratio, Peakrpm and symboling are not correlated.\")\n",
    "\n",
    "p1=dataset['compressionratio']\n",
    "p2=dataset['peakrpm']\n",
    "p3=dataset['symboling']\n",
    "\n",
    "pearson_coeff, p_value = pearsonr(p1,dataset['price'])\n",
    "print('\\nWe can make sure of this by looking at the Coefficient of Correlation')\n",
    "print('\\nCorrelation coefficient between Price and compressionratio: ',pearson_coeff*100,'%')\n",
    "\n",
    "pearson_coeff, p_value = pearsonr(p2,dataset['price'])\n",
    "print('Correlation coefficient between Price and peakrpm: ',pearson_coeff*100,'%')\n",
    "\n",
    "pearson_coeff, p_value = pearsonr(p3,dataset['price'])\n",
    "print('Correlation coefficient between Price and symboling: ',pearson_coeff*100,'%')"
   ]
  },
  {
   "cell_type": "code",
   "execution_count": 22,
   "id": "drawn-sweet",
   "metadata": {},
   "outputs": [
    {
     "data": {
      "image/png": "[encoded data removed]",
      "text/plain": [
       "<Figure size 576x288 with 2 Axes>"
      ]
     },
     "metadata": {
      "needs_background": "light"
     },
     "output_type": "display_data"
    },
    {
     "name": "stdout",
     "output_type": "stream",
     "text": [
      "Citympg & Highwaympg are negatively correlated.\n",
      "The more prices get lower, the higher the distances get, which means that the cheapest cars have better mileage than expensive cars.\n",
      "\n",
      "We can make sure of this by looking at the Coefficient of Correlation\n",
      "\n",
      "Correlation coefficient between Price and citympg:  -68.575133602704 %\n",
      "Correlation coefficient between Price and highwaympg:  -69.75990916465562 %\n"
     ]
    }
   ],
   "source": [
    "x_vars=['citympg', 'highwaympg']\n",
    "pairplot(x_vars,y_vars)\n",
    "print('Citympg & Highwaympg are negatively correlated.\\nThe more prices get lower, the higher the distances get, which means that the cheapest cars have better mileage than expensive cars.')\n",
    "\n",
    "p1=dataset['citympg']\n",
    "p2=dataset['highwaympg']\n",
    "\n",
    "pearson_coeff, p_value = pearsonr(p1,dataset['price'])\n",
    "print('\\nWe can make sure of this by looking at the Coefficient of Correlation')\n",
    "print('\\nCorrelation coefficient between Price and citympg: ',pearson_coeff*100,'%')\n",
    "\n",
    "pearson_coeff, p_value = pearsonr(p2,dataset['price'])\n",
    "print('Correlation coefficient between Price and highwaympg: ',pearson_coeff*100,'%')"
   ]
  },
  {
   "cell_type": "markdown",
   "id": "assumed-cycle",
   "metadata": {},
   "source": [
    "Conclusion\n",
    "\n",
    "(+) positively correlated variables with Price: ** wheelbase, carlenght, carwidth, curbweight, enginesize, boreratio, horesepower **\n",
    "\n",
    "(-) negatively correlated variables with Price: ** citympg, highwaympg **\n",
    "\n",
    "These variables should be kept for a better model, and the other variables should be ignored as they are not correlated with Price"
   ]
  },
  {
   "cell_type": "markdown",
   "id": "limited-jefferson",
   "metadata": {},
   "source": [
    "## Visualizing the Corelation"
   ]
  },
  {
   "cell_type": "markdown",
   "id": "disabled-southeast",
   "metadata": {},
   "source": [
    "## multicollinearity between the independent variables"
   ]
  },
  {
   "cell_type": "code",
   "execution_count": 23,
   "id": "moving-identification",
   "metadata": {},
   "outputs": [],
   "source": [
    "def heatmap(dataframe):\n",
    "    plt.figure(figsize=(16,5))\n",
    "    sns.heatmap(dataframe.corr(),cmap=\"OrRd\",annot=True)\n",
    "    plt.show()"
   ]
  },
  {
   "cell_type": "code",
   "execution_count": 24,
   "id": "greenhouse-forge",
   "metadata": {},
   "outputs": [
    {
     "name": "stderr",
     "output_type": "stream",
     "text": [
      "<ipython-input-23-5721e8a081fd>:3: FutureWarning: The default value of numeric_only in DataFrame.corr is deprecated. In a future version, it will default to False. Select only valid columns or specify the value of numeric_only to silence this warning.\n",
      "  sns.heatmap(dataframe.corr(),cmap=\"OrRd\",annot=True)\n"
     ]
    },
    {
     "data": {
      "image/png": "[encoded data removed]",
      "text/plain": [
       "<Figure size 1152x360 with 2 Axes>"
      ]
     },
     "metadata": {
      "needs_background": "light"
     },
     "output_type": "display_data"
    }
   ],
   "source": [
    "heatmap(dataset)"
   ]
  },
  {
   "cell_type": "code",
   "execution_count": 25,
   "id": "vanilla-director",
   "metadata": {},
   "outputs": [
    {
     "data": {
      "image/png": "[encoded data removed]",
      "text/plain": [
       "<Figure size 1152x360 with 2 Axes>"
      ]
     },
     "metadata": {
      "needs_background": "light"
     },
     "output_type": "display_data"
    }
   ],
   "source": [
    "heatmap(dataset.filter(['wheelbase', 'carlength', 'carwidth','curbweight']))"
   ]
  },
  {
   "cell_type": "code",
   "execution_count": 26,
   "id": "tribal-wagner",
   "metadata": {},
   "outputs": [
    {
     "data": {
      "image/png": "[encoded data removed]",
      "text/plain": [
       "<Figure size 1152x360 with 2 Axes>"
      ]
     },
     "metadata": {
      "needs_background": "light"
     },
     "output_type": "display_data"
    }
   ],
   "source": [
    "heatmap(dataset.filter(['enginesize','boreratio','horsepower']))"
   ]
  },
  {
   "cell_type": "code",
   "execution_count": 27,
   "id": "military-paper",
   "metadata": {},
   "outputs": [
    {
     "data": {
      "image/png": "[encoded data removed]",
      "text/plain": [
       "<Figure size 1152x360 with 2 Axes>"
      ]
     },
     "metadata": {
      "needs_background": "light"
     },
     "output_type": "display_data"
    }
   ],
   "source": [
    "heatmap(dataset.filter( ['citympg','highwaympg']))"
   ]
  },
  {
   "cell_type": "markdown",
   "id": "balanced-missile",
   "metadata": {},
   "source": [
    "Conclusions:\n",
    "- Wheelbase , carlength, carwidth et curbweight are very correlated and we have to keep only one between them.\n",
    "- Horsepower and enginesize are highly correlated and we need to keep only one.\n",
    "- citympg and highwaympg are highly correlated and we need to keep one of them."
   ]
  },
  {
   "cell_type": "markdown",
   "id": "early-homework",
   "metadata": {},
   "source": [
    "### Categorical Variables"
   ]
  },
  {
   "cell_type": "code",
   "execution_count": 28,
   "id": "usual-insight",
   "metadata": {},
   "outputs": [
    {
     "data": {
      "text/plain": [
       "['fueltype',\n",
       " 'CompanyName',\n",
       " 'aspiration',\n",
       " 'doornumber',\n",
       " 'carbody',\n",
       " 'drivewheel',\n",
       " 'enginelocation',\n",
       " 'enginetype',\n",
       " 'cylindernumber',\n",
       " 'fuelsystem']"
      ]
     },
     "execution_count": 28,
     "metadata": {},
     "output_type": "execute_result"
    }
   ],
   "source": [
    "categorical_features=[feature for feature in dataset.columns if dataset[feature].dtypes=='O']\n",
    "categorical_features"
   ]
  },
  {
   "cell_type": "code",
   "execution_count": 29,
   "id": "received-hybrid",
   "metadata": {},
   "outputs": [
    {
     "data": {
      "text/html": [
       "<div>\n",
       "<style scoped>\n",
       "    .dataframe tbody tr th:only-of-type {\n",
       "        vertical-align: middle;\n",
       "    }\n",
       "\n",
       "    .dataframe tbody tr th {\n",
       "        vertical-align: top;\n",
       "    }\n",
       "\n",
       "    .dataframe thead th {\n",
       "        text-align: right;\n",
       "    }\n",
       "</style>\n",
       "<table border=\"1\" class=\"dataframe\">\n",
       "  <thead>\n",
       "    <tr style=\"text-align: right;\">\n",
       "      <th></th>\n",
       "      <th>fueltype</th>\n",
       "      <th>CompanyName</th>\n",
       "      <th>aspiration</th>\n",
       "      <th>doornumber</th>\n",
       "      <th>carbody</th>\n",
       "      <th>drivewheel</th>\n",
       "      <th>enginelocation</th>\n",
       "      <th>enginetype</th>\n",
       "      <th>cylindernumber</th>\n",
       "      <th>fuelsystem</th>\n",
       "    </tr>\n",
       "  </thead>\n",
       "  <tbody>\n",
       "    <tr>\n",
       "      <th>0</th>\n",
       "      <td>gas</td>\n",
       "      <td>alfa-romero</td>\n",
       "      <td>std</td>\n",
       "      <td>two</td>\n",
       "      <td>convertible</td>\n",
       "      <td>rwd</td>\n",
       "      <td>front</td>\n",
       "      <td>dohc</td>\n",
       "      <td>four</td>\n",
       "      <td>mpfi</td>\n",
       "    </tr>\n",
       "    <tr>\n",
       "      <th>1</th>\n",
       "      <td>gas</td>\n",
       "      <td>alfa-romero</td>\n",
       "      <td>std</td>\n",
       "      <td>two</td>\n",
       "      <td>convertible</td>\n",
       "      <td>rwd</td>\n",
       "      <td>front</td>\n",
       "      <td>dohc</td>\n",
       "      <td>four</td>\n",
       "      <td>mpfi</td>\n",
       "    </tr>\n",
       "    <tr>\n",
       "      <th>2</th>\n",
       "      <td>gas</td>\n",
       "      <td>alfa-romero</td>\n",
       "      <td>std</td>\n",
       "      <td>two</td>\n",
       "      <td>hatchback</td>\n",
       "      <td>rwd</td>\n",
       "      <td>front</td>\n",
       "      <td>ohcv</td>\n",
       "      <td>six</td>\n",
       "      <td>mpfi</td>\n",
       "    </tr>\n",
       "    <tr>\n",
       "      <th>3</th>\n",
       "      <td>gas</td>\n",
       "      <td>audi</td>\n",
       "      <td>std</td>\n",
       "      <td>four</td>\n",
       "      <td>sedan</td>\n",
       "      <td>fwd</td>\n",
       "      <td>front</td>\n",
       "      <td>ohc</td>\n",
       "      <td>four</td>\n",
       "      <td>mpfi</td>\n",
       "    </tr>\n",
       "    <tr>\n",
       "      <th>4</th>\n",
       "      <td>gas</td>\n",
       "      <td>audi</td>\n",
       "      <td>std</td>\n",
       "      <td>four</td>\n",
       "      <td>sedan</td>\n",
       "      <td>4wd</td>\n",
       "      <td>front</td>\n",
       "      <td>ohc</td>\n",
       "      <td>five</td>\n",
       "      <td>mpfi</td>\n",
       "    </tr>\n",
       "  </tbody>\n",
       "</table>\n",
       "</div>"
      ],
      "text/plain": [
       "  fueltype  CompanyName aspiration doornumber      carbody drivewheel  \\\n",
       "0      gas  alfa-romero        std        two  convertible        rwd   \n",
       "1      gas  alfa-romero        std        two  convertible        rwd   \n",
       "2      gas  alfa-romero        std        two    hatchback        rwd   \n",
       "3      gas         audi        std       four        sedan        fwd   \n",
       "4      gas         audi        std       four        sedan        4wd   \n",
       "\n",
       "  enginelocation enginetype cylindernumber fuelsystem  \n",
       "0          front       dohc           four       mpfi  \n",
       "1          front       dohc           four       mpfi  \n",
       "2          front       ohcv            six       mpfi  \n",
       "3          front        ohc           four       mpfi  \n",
       "4          front        ohc           five       mpfi  "
      ]
     },
     "execution_count": 29,
     "metadata": {},
     "output_type": "execute_result"
    }
   ],
   "source": [
    "dataset[categorical_features].head()"
   ]
  },
  {
   "cell_type": "code",
   "execution_count": 30,
   "id": "alive-liability",
   "metadata": {},
   "outputs": [
    {
     "name": "stdout",
     "output_type": "stream",
     "text": [
      "The feature is fueltype and number of categories are 2\n",
      "The feature is CompanyName and number of categories are 22\n",
      "The feature is aspiration and number of categories are 2\n",
      "The feature is doornumber and number of categories are 2\n",
      "The feature is carbody and number of categories are 5\n",
      "The feature is drivewheel and number of categories are 3\n",
      "The feature is enginelocation and number of categories are 2\n",
      "The feature is enginetype and number of categories are 7\n",
      "The feature is cylindernumber and number of categories are 7\n",
      "The feature is fuelsystem and number of categories are 8\n"
     ]
    }
   ],
   "source": [
    "for feature in categorical_features:\n",
    "    print('The feature is {} and number of categories are {}'.format(feature,len(dataset[feature].unique())))"
   ]
  },
  {
   "cell_type": "markdown",
   "id": "restricted-practitioner",
   "metadata": {},
   "source": [
    "## Analysis of categorical feature"
   ]
  },
  {
   "cell_type": "markdown",
   "id": "ready-importance",
   "metadata": {},
   "source": [
    "- Price VS CompanyName"
   ]
  },
  {
   "cell_type": "code",
   "execution_count": 31,
   "id": "grand-controversy",
   "metadata": {},
   "outputs": [
    {
     "data": {
      "image/png": "[encoded data removed]",
      "text/plain": [
       "<Figure size 1440x648 with 1 Axes>"
      ]
     },
     "metadata": {
      "needs_background": "light"
     },
     "output_type": "display_data"
    }
   ],
   "source": [
    "plt.figure(figsize=(20,9))\n",
    "\n",
    "plt.xticks(rotation = 90)\n",
    "order = dataset['CompanyName'].value_counts(ascending=False).index\n",
    "sns.countplot(x='CompanyName', data=dataset, order=order)\n",
    "\n",
    "plt.show()"
   ]
  },
  {
   "cell_type": "markdown",
   "id": "interesting-yellow",
   "metadata": {},
   "source": [
    "#### Conclusions:--\n",
    "- **Toyota** seems to be very popular, followed by **Nissan** and **Mazda**."
   ]
  },
  {
   "cell_type": "markdown",
   "id": "brave-reverse",
   "metadata": {},
   "source": [
    "- **Price VS fueltype**"
   ]
  },
  {
   "cell_type": "code",
   "execution_count": 32,
   "id": "generous-powell",
   "metadata": {},
   "outputs": [
    {
     "data": {
      "image/png": "[encoded data removed]",
      "text/plain": [
       "<Figure size 1440x864 with 2 Axes>"
      ]
     },
     "metadata": {
      "needs_background": "light"
     },
     "output_type": "display_data"
    }
   ],
   "source": [
    "plt.figure(figsize=(20, 12))\n",
    "\n",
    "plt.subplot(2,3,1)\n",
    "sns.boxplot(x = 'fueltype', y = 'price', data = dataset)\n",
    "\n",
    "plt.subplot(2,3,2)\n",
    "plt.title('Fuel Type Histogram')\n",
    "order = dataset['fueltype'].value_counts(ascending=False).index\n",
    "sns.countplot(x='fueltype', data=dataset, order=order)\n",
    "\n",
    "plt.show()"
   ]
  },
  {
   "cell_type": "markdown",
   "id": "arbitrary-finger",
   "metadata": {},
   "source": [
    "The average price of a diesel car is higher than that of gas cars, which explains, according to the histogram, why the company sold more gas cars than diesel cars.\n",
    "\n",
    "--- Note: Existence of Outliers for Gas"
   ]
  },
  {
   "cell_type": "markdown",
   "id": "interstate-recovery",
   "metadata": {},
   "source": [
    "**Price VS aspiration**"
   ]
  },
  {
   "cell_type": "code",
   "execution_count": 33,
   "id": "unavailable-burns",
   "metadata": {},
   "outputs": [
    {
     "data": {
      "image/png": "[encoded data removed]",
      "text/plain": [
       "<Figure size 1440x864 with 2 Axes>"
      ]
     },
     "metadata": {
      "needs_background": "light"
     },
     "output_type": "display_data"
    }
   ],
   "source": [
    "plt.figure(figsize=(20, 12))\n",
    "\n",
    "plt.subplot(2,3,1)\n",
    "sns.boxplot(x = 'aspiration', y = 'price', data = dataset)\n",
    "\n",
    "plt.subplot(2,3,2)\n",
    "plt.title('Aspiration Histogram')\n",
    "order = dataset['aspiration'].value_counts(ascending=False).index\n",
    "sns.countplot(x='aspiration', data=dataset, order=order)\n",
    "\n",
    "plt.show()"
   ]
  },
  {
   "cell_type": "markdown",
   "id": "focal-muscle",
   "metadata": {},
   "source": [
    "The average price of cars with **turbo** aspiration is higher than that of **standard** aspiration, which explains, according to the histogram, why the company sells cars with **standard** aspiration more than of cars with **turbo** aspiration.\n",
    "\n",
    "- ** Note: Existence of Outliers for ** Turbo ** and ** std **"
   ]
  },
  {
   "cell_type": "markdown",
   "id": "single-straight",
   "metadata": {},
   "source": [
    "**Price VS doornumber**"
   ]
  },
  {
   "cell_type": "code",
   "execution_count": 34,
   "id": "impressed-colonial",
   "metadata": {},
   "outputs": [
    {
     "data": {
      "image/png": "[encoded data removed]",
      "text/plain": [
       "<Figure size 1440x864 with 2 Axes>"
      ]
     },
     "metadata": {
      "needs_background": "light"
     },
     "output_type": "display_data"
    }
   ],
   "source": [
    "plt.figure(figsize=(20, 12))\n",
    "\n",
    "plt.subplot(2,3,1)\n",
    "sns.boxplot(x = 'doornumber', y = 'price', data = dataset)\n",
    "\n",
    "plt.subplot(2,3,2)\n",
    "plt.title('Door Number Histogram')\n",
    "order = dataset['doornumber'].value_counts(ascending=False).index\n",
    "sns.countplot(x='doornumber', data=dataset, order=order)\n",
    "\n",
    "plt.show()"
   ]
  },
  {
   "cell_type": "markdown",
   "id": "valued-parts",
   "metadata": {},
   "source": [
    "**doornumber** values are pretty close, which means the price is not affected by **doornumber**\n",
    "\n",
    "Note: Existence of Outliers in **four** and **two**"
   ]
  },
  {
   "cell_type": "markdown",
   "id": "operational-karaoke",
   "metadata": {},
   "source": [
    "**Price VS enginelocation**"
   ]
  },
  {
   "cell_type": "code",
   "execution_count": 35,
   "id": "bigger-assumption",
   "metadata": {},
   "outputs": [
    {
     "data": {
      "image/png": "[encoded data removed]",
      "text/plain": [
       "<Figure size 1440x864 with 2 Axes>"
      ]
     },
     "metadata": {
      "needs_background": "light"
     },
     "output_type": "display_data"
    }
   ],
   "source": [
    "plt.figure(figsize=(20, 12))\n",
    "\n",
    "plt.subplot(2,3,1)\n",
    "sns.boxplot(x = 'enginelocation', y = 'price', data = dataset)\n",
    "\n",
    "plt.subplot(2,3,2)\n",
    "plt.title('Engine Location Histogram')\n",
    "order = dataset['enginelocation'].value_counts(ascending=False).index\n",
    "sns.countplot(x='enginelocation', data=dataset, order=order)\n",
    "\n",
    "plt.show()"
   ]
  },
  {
   "cell_type": "markdown",
   "id": "alike-phrase",
   "metadata": {},
   "source": [
    "**rear cars** are very expensive, which is why the company sold more cars with **front** rear."
   ]
  },
  {
   "cell_type": "markdown",
   "id": "necessary-colony",
   "metadata": {},
   "source": [
    "**Price VS carbody**"
   ]
  },
  {
   "cell_type": "code",
   "execution_count": 36,
   "id": "quality-organizer",
   "metadata": {},
   "outputs": [
    {
     "data": {
      "image/png": "[encoded data removed]",
      "text/plain": [
       "<Figure size 1440x864 with 2 Axes>"
      ]
     },
     "metadata": {
      "needs_background": "light"
     },
     "output_type": "display_data"
    }
   ],
   "source": [
    "plt.figure(figsize=(20, 12))\n",
    "plt.subplot(2,3,1)\n",
    "sns.boxplot(x='carbody',y='price',data = dataset)\n",
    "\n",
    "plt.subplot(2,3,2)\n",
    "plt.title('Car Body Histogram')\n",
    "order = dataset['carbody'].value_counts(ascending=False).index\n",
    "sns.countplot(x='carbody', data=dataset, order=order)\n",
    "\n",
    "plt.show()"
   ]
  },
  {
   "cell_type": "markdown",
   "id": "distant-transcription",
   "metadata": {},
   "source": [
    "It seems that ** sedan ** is the most favored.\n",
    "\n",
    "** hardtop ** has the highest average price.\n",
    "\n",
    "- Note: Existence of Outliers for several values."
   ]
  },
  {
   "cell_type": "markdown",
   "id": "polished-penny",
   "metadata": {},
   "source": [
    "**Price VS fuelsystem**"
   ]
  },
  {
   "cell_type": "code",
   "execution_count": 37,
   "id": "compressed-cedar",
   "metadata": {},
   "outputs": [
    {
     "data": {
      "image/png": "[encoded data removed]",
      "text/plain": [
       "<Figure size 1440x864 with 2 Axes>"
      ]
     },
     "metadata": {
      "needs_background": "light"
     },
     "output_type": "display_data"
    }
   ],
   "source": [
    "plt.figure(figsize=(20, 12))\n",
    "plt.subplot(2,3,1)\n",
    "sns.boxplot(x='fuelsystem',y='price',data = dataset)\n",
    "\n",
    "plt.subplot(2,3,2)\n",
    "plt.title('Fuel System Histogram')\n",
    "order = dataset['fuelsystem'].value_counts(ascending=False).index\n",
    "sns.countplot(x='fuelsystem', data=dataset, order=order)\n",
    "\n",
    "plt.show()"
   ]
  },
  {
   "cell_type": "markdown",
   "id": "endless-makeup",
   "metadata": {},
   "source": [
    " **mpfi** is the most favored type of **fuelsystem**, even though it has the highest average price.\n",
    "\n",
    " Note: Existence of Outliers for **mpfi** and **2bbl**"
   ]
  },
  {
   "cell_type": "markdown",
   "id": "composite-cisco",
   "metadata": {},
   "source": [
    "**Price VS enginetype**"
   ]
  },
  {
   "cell_type": "code",
   "execution_count": 38,
   "id": "passing-singer",
   "metadata": {},
   "outputs": [
    {
     "data": {
      "image/png": "[encoded data removed]",
      "text/plain": [
       "<Figure size 1440x864 with 2 Axes>"
      ]
     },
     "metadata": {
      "needs_background": "light"
     },
     "output_type": "display_data"
    }
   ],
   "source": [
    "plt.figure(figsize=(20, 12))\n",
    "plt.subplot(2,3,1)\n",
    "sns.boxplot(x='enginetype',y='price',data = dataset)\n",
    "\n",
    "plt.subplot(2,3,2)\n",
    "plt.title('Engine Type Histogram')\n",
    "order = dataset['enginetype'].value_counts(ascending=False).index\n",
    "sns.countplot(x='enginetype', data=dataset, order=order)\n",
    "\n",
    "plt.show()"
   ]
  },
  {
   "cell_type": "markdown",
   "id": "adolescent-promise",
   "metadata": {},
   "source": [
    "ohc is the most favored engine type."
   ]
  },
  {
   "cell_type": "markdown",
   "id": "grave-threshold",
   "metadata": {},
   "source": [
    "**Price VS cylindernumber**"
   ]
  },
  {
   "cell_type": "code",
   "execution_count": 39,
   "id": "destroyed-oxford",
   "metadata": {},
   "outputs": [
    {
     "data": {
      "image/png": "[encoded data removed]",
      "text/plain": [
       "<Figure size 1440x864 with 2 Axes>"
      ]
     },
     "metadata": {
      "needs_background": "light"
     },
     "output_type": "display_data"
    }
   ],
   "source": [
    "plt.figure(figsize=(20, 12))\n",
    "plt.subplot(2,3,1)\n",
    "sns.boxplot(x='cylindernumber',y='price',data = dataset)\n",
    "\n",
    "plt.subplot(2,3,2)\n",
    "plt.title('Cylinder Number Histogram')\n",
    "order = dataset['cylindernumber'].value_counts(ascending=False).index\n",
    "sns.countplot(x='cylindernumber', data=dataset, order=order)\n",
    "\n",
    "plt.show()"
   ]
  },
  {
   "cell_type": "markdown",
   "id": "overhead-russell",
   "metadata": {},
   "source": [
    "The four-cylinder seems to be the most favored.\n",
    "We can see that expensive cars have eight-cylinder, and four-cylinder are the cheapest."
   ]
  },
  {
   "cell_type": "markdown",
   "id": "otherwise-beauty",
   "metadata": {},
   "source": [
    "**Price VS drivewheel**"
   ]
  },
  {
   "cell_type": "code",
   "execution_count": 40,
   "id": "electronic-mustang",
   "metadata": {},
   "outputs": [
    {
     "data": {
      "image/png": "[encoded data removed]",
      "text/plain": [
       "<Figure size 1440x864 with 2 Axes>"
      ]
     },
     "metadata": {
      "needs_background": "light"
     },
     "output_type": "display_data"
    }
   ],
   "source": [
    "plt.figure(figsize=(20, 12))\n",
    "plt.subplot(2,3,1)\n",
    "sns.boxplot(x = 'drivewheel', y = 'price', data = dataset)\n",
    "\n",
    "plt.subplot(2,3,2)\n",
    "plt.title('DriveWheel Histogram')\n",
    "order = dataset['drivewheel'].value_counts(ascending=False).index\n",
    "sns.countplot(x='drivewheel', data=dataset, order=order)\n",
    "\n",
    "plt.show()"
   ]
  },
  {
   "cell_type": "markdown",
   "id": "northern-consolidation",
   "metadata": {},
   "source": [
    "FWD is the most favored, followed by RWD , and 4WD is the least favored even though it is cheaper than RWD."
   ]
  },
  {
   "cell_type": "markdown",
   "id": "resident-easter",
   "metadata": {},
   "source": [
    "Price VS symboling"
   ]
  },
  {
   "cell_type": "code",
   "execution_count": 41,
   "id": "timely-organic",
   "metadata": {},
   "outputs": [
    {
     "data": {
      "image/png": "[encoded data removed]",
      "text/plain": [
       "<Figure size 1440x864 with 2 Axes>"
      ]
     },
     "metadata": {
      "needs_background": "light"
     },
     "output_type": "display_data"
    }
   ],
   "source": [
    "plt.figure(figsize=(20, 12))\n",
    "plt.subplot(2,3,1)\n",
    "sns.boxplot(x=dataset.symboling, y=dataset.price)\n",
    "\n",
    "\n",
    "plt.subplot(2,3,2)\n",
    "plt.title('Symboling Histogram')\n",
    "order = dataset['symboling'].value_counts(ascending=False).index\n",
    "sns.countplot(x='symboling', data=dataset, order=order)\n",
    "\n",
    "plt.show()"
   ]
  },
  {
   "cell_type": "markdown",
   "id": "natural-ethics",
   "metadata": {},
   "source": [
    "It seems that symboling 0 and 1 are the most favored.\n",
    "Cars with symboling -1 and -2 are the most expensive, which is logical because it means that the car is more secure."
   ]
  },
  {
   "cell_type": "markdown",
   "id": "designing-bracket",
   "metadata": {},
   "source": [
    "# Data preparation"
   ]
  },
  {
   "cell_type": "code",
   "execution_count": 42,
   "id": "prompt-morris",
   "metadata": {},
   "outputs": [
    {
     "data": {
      "text/html": [
       "<div>\n",
       "<style scoped>\n",
       "    .dataframe tbody tr th:only-of-type {\n",
       "        vertical-align: middle;\n",
       "    }\n",
       "\n",
       "    .dataframe tbody tr th {\n",
       "        vertical-align: top;\n",
       "    }\n",
       "\n",
       "    .dataframe thead th {\n",
       "        text-align: right;\n",
       "    }\n",
       "</style>\n",
       "<table border=\"1\" class=\"dataframe\">\n",
       "  <thead>\n",
       "    <tr style=\"text-align: right;\">\n",
       "      <th></th>\n",
       "      <th>symboling</th>\n",
       "      <th>fueltype</th>\n",
       "      <th>CompanyName</th>\n",
       "      <th>aspiration</th>\n",
       "      <th>doornumber</th>\n",
       "      <th>carbody</th>\n",
       "      <th>drivewheel</th>\n",
       "      <th>enginelocation</th>\n",
       "      <th>wheelbase</th>\n",
       "      <th>enginetype</th>\n",
       "      <th>cylindernumber</th>\n",
       "      <th>fuelsystem</th>\n",
       "      <th>boreratio</th>\n",
       "      <th>horsepower</th>\n",
       "      <th>citympg</th>\n",
       "      <th>price</th>\n",
       "    </tr>\n",
       "  </thead>\n",
       "  <tbody>\n",
       "    <tr>\n",
       "      <th>0</th>\n",
       "      <td>3</td>\n",
       "      <td>gas</td>\n",
       "      <td>alfa-romero</td>\n",
       "      <td>std</td>\n",
       "      <td>two</td>\n",
       "      <td>convertible</td>\n",
       "      <td>rwd</td>\n",
       "      <td>front</td>\n",
       "      <td>88.6</td>\n",
       "      <td>dohc</td>\n",
       "      <td>four</td>\n",
       "      <td>mpfi</td>\n",
       "      <td>3.47</td>\n",
       "      <td>111</td>\n",
       "      <td>21</td>\n",
       "      <td>13495.0</td>\n",
       "    </tr>\n",
       "    <tr>\n",
       "      <th>1</th>\n",
       "      <td>3</td>\n",
       "      <td>gas</td>\n",
       "      <td>alfa-romero</td>\n",
       "      <td>std</td>\n",
       "      <td>two</td>\n",
       "      <td>convertible</td>\n",
       "      <td>rwd</td>\n",
       "      <td>front</td>\n",
       "      <td>88.6</td>\n",
       "      <td>dohc</td>\n",
       "      <td>four</td>\n",
       "      <td>mpfi</td>\n",
       "      <td>3.47</td>\n",
       "      <td>111</td>\n",
       "      <td>21</td>\n",
       "      <td>16500.0</td>\n",
       "    </tr>\n",
       "    <tr>\n",
       "      <th>2</th>\n",
       "      <td>1</td>\n",
       "      <td>gas</td>\n",
       "      <td>alfa-romero</td>\n",
       "      <td>std</td>\n",
       "      <td>two</td>\n",
       "      <td>hatchback</td>\n",
       "      <td>rwd</td>\n",
       "      <td>front</td>\n",
       "      <td>94.5</td>\n",
       "      <td>ohcv</td>\n",
       "      <td>six</td>\n",
       "      <td>mpfi</td>\n",
       "      <td>2.68</td>\n",
       "      <td>154</td>\n",
       "      <td>19</td>\n",
       "      <td>16500.0</td>\n",
       "    </tr>\n",
       "    <tr>\n",
       "      <th>3</th>\n",
       "      <td>2</td>\n",
       "      <td>gas</td>\n",
       "      <td>audi</td>\n",
       "      <td>std</td>\n",
       "      <td>four</td>\n",
       "      <td>sedan</td>\n",
       "      <td>fwd</td>\n",
       "      <td>front</td>\n",
       "      <td>99.8</td>\n",
       "      <td>ohc</td>\n",
       "      <td>four</td>\n",
       "      <td>mpfi</td>\n",
       "      <td>3.19</td>\n",
       "      <td>102</td>\n",
       "      <td>24</td>\n",
       "      <td>13950.0</td>\n",
       "    </tr>\n",
       "    <tr>\n",
       "      <th>4</th>\n",
       "      <td>2</td>\n",
       "      <td>gas</td>\n",
       "      <td>audi</td>\n",
       "      <td>std</td>\n",
       "      <td>four</td>\n",
       "      <td>sedan</td>\n",
       "      <td>4wd</td>\n",
       "      <td>front</td>\n",
       "      <td>99.4</td>\n",
       "      <td>ohc</td>\n",
       "      <td>five</td>\n",
       "      <td>mpfi</td>\n",
       "      <td>3.19</td>\n",
       "      <td>115</td>\n",
       "      <td>18</td>\n",
       "      <td>17450.0</td>\n",
       "    </tr>\n",
       "  </tbody>\n",
       "</table>\n",
       "</div>"
      ],
      "text/plain": [
       "   symboling fueltype  CompanyName aspiration doornumber      carbody  \\\n",
       "0          3      gas  alfa-romero        std        two  convertible   \n",
       "1          3      gas  alfa-romero        std        two  convertible   \n",
       "2          1      gas  alfa-romero        std        two    hatchback   \n",
       "3          2      gas         audi        std       four        sedan   \n",
       "4          2      gas         audi        std       four        sedan   \n",
       "\n",
       "  drivewheel enginelocation  wheelbase enginetype cylindernumber fuelsystem  \\\n",
       "0        rwd          front       88.6       dohc           four       mpfi   \n",
       "1        rwd          front       88.6       dohc           four       mpfi   \n",
       "2        rwd          front       94.5       ohcv            six       mpfi   \n",
       "3        fwd          front       99.8        ohc           four       mpfi   \n",
       "4        4wd          front       99.4        ohc           five       mpfi   \n",
       "\n",
       "   boreratio  horsepower  citympg    price  \n",
       "0       3.47         111       21  13495.0  \n",
       "1       3.47         111       21  16500.0  \n",
       "2       2.68         154       19  16500.0  \n",
       "3       3.19         102       24  13950.0  \n",
       "4       3.19         115       18  17450.0  "
      ]
     },
     "execution_count": 42,
     "metadata": {},
     "output_type": "execute_result"
    }
   ],
   "source": [
    "##Remove the uncorrelated variables with Price, and choose only one variable among the variables correlated with it\n",
    "dataset = dataset.drop(['carheight' ,'stroke' ,'compressionratio' ,'peakrpm' ,'carlength' ,'carwidth' ,'curbweight' ,'enginesize' ,'highwaympg'], axis=1)\n",
    "dataset.head()"
   ]
  },
  {
   "cell_type": "code",
   "execution_count": 43,
   "id": "fleet-shark",
   "metadata": {},
   "outputs": [
    {
     "data": {
      "text/plain": [
       "(205, 16)"
      ]
     },
     "execution_count": 43,
     "metadata": {},
     "output_type": "execute_result"
    }
   ],
   "source": [
    "dataset.shape"
   ]
  },
  {
   "cell_type": "markdown",
   "id": "foster-sapphire",
   "metadata": {},
   "source": [
    "**Dummy Variables creation**"
   ]
  },
  {
   "cell_type": "code",
   "execution_count": 44,
   "id": "quick-relevance",
   "metadata": {},
   "outputs": [],
   "source": [
    "def binary_dummy_replace(x) :\n",
    "     return x.map({\"gas\":1,\"diesel\":0,\n",
    "                   \"std\":1,\"turbo\":0,\n",
    "                   \"two\":1, \"four\":0,\n",
    "                   \"front\": 1, \"rear\": 0})\n",
    "def dummies(x,df):  \n",
    "    temp = pd.get_dummies(df[x], prefix=x, drop_first = True)\n",
    "\n",
    "    df = pd.concat([df, temp], axis = 1)\n",
    "    df.drop([x], axis = 1, inplace = True)\n",
    "    return df"
   ]
  },
  {
   "cell_type": "code",
   "execution_count": 45,
   "id": "peaceful-cover",
   "metadata": {},
   "outputs": [],
   "source": [
    "dataset = dummies('symboling',dataset)\n",
    "dataset = dummies('CompanyName',dataset)\n",
    "dataset = dummies('fueltype',dataset)\n",
    "dataset = dummies('aspiration',dataset)\n",
    "dataset = dummies('doornumber',dataset)\n",
    "dataset = dummies('carbody',dataset)\n",
    "dataset = dummies('drivewheel',dataset)\n",
    "dataset = dummies('enginelocation',dataset)\n",
    "dataset = dummies('enginetype',dataset)\n",
    "dataset = dummies('cylindernumber',dataset)\n",
    "dataset = dummies('fuelsystem',dataset)"
   ]
  },
  {
   "cell_type": "code",
   "execution_count": 46,
   "id": "primary-pittsburgh",
   "metadata": {},
   "outputs": [
    {
     "data": {
      "text/html": [
       "<div>\n",
       "<style scoped>\n",
       "    .dataframe tbody tr th:only-of-type {\n",
       "        vertical-align: middle;\n",
       "    }\n",
       "\n",
       "    .dataframe tbody tr th {\n",
       "        vertical-align: top;\n",
       "    }\n",
       "\n",
       "    .dataframe thead th {\n",
       "        text-align: right;\n",
       "    }\n",
       "</style>\n",
       "<table border=\"1\" class=\"dataframe\">\n",
       "  <thead>\n",
       "    <tr style=\"text-align: right;\">\n",
       "      <th></th>\n",
       "      <th>wheelbase</th>\n",
       "      <th>boreratio</th>\n",
       "      <th>horsepower</th>\n",
       "      <th>citympg</th>\n",
       "      <th>price</th>\n",
       "      <th>symboling_-1</th>\n",
       "      <th>symboling_0</th>\n",
       "      <th>symboling_1</th>\n",
       "      <th>symboling_2</th>\n",
       "      <th>symboling_3</th>\n",
       "      <th>CompanyName_audi</th>\n",
       "      <th>CompanyName_bmw</th>\n",
       "      <th>CompanyName_buick</th>\n",
       "      <th>CompanyName_chevrolet</th>\n",
       "      <th>CompanyName_dodge</th>\n",
       "      <th>CompanyName_honda</th>\n",
       "      <th>CompanyName_isuzu</th>\n",
       "      <th>CompanyName_jaguar</th>\n",
       "      <th>CompanyName_mazda</th>\n",
       "      <th>CompanyName_mercury</th>\n",
       "      <th>CompanyName_mitsubishi</th>\n",
       "      <th>CompanyName_nissan</th>\n",
       "      <th>CompanyName_peugeot</th>\n",
       "      <th>CompanyName_plymouth</th>\n",
       "      <th>CompanyName_porsche</th>\n",
       "      <th>CompanyName_renault</th>\n",
       "      <th>CompanyName_saab</th>\n",
       "      <th>CompanyName_subaru</th>\n",
       "      <th>CompanyName_toyota</th>\n",
       "      <th>CompanyName_volkswagen</th>\n",
       "      <th>CompanyName_volvo</th>\n",
       "      <th>fueltype_gas</th>\n",
       "      <th>aspiration_turbo</th>\n",
       "      <th>doornumber_two</th>\n",
       "      <th>carbody_hardtop</th>\n",
       "      <th>carbody_hatchback</th>\n",
       "      <th>carbody_sedan</th>\n",
       "      <th>carbody_wagon</th>\n",
       "      <th>drivewheel_fwd</th>\n",
       "      <th>drivewheel_rwd</th>\n",
       "      <th>enginelocation_rear</th>\n",
       "      <th>enginetype_dohcv</th>\n",
       "      <th>enginetype_l</th>\n",
       "      <th>enginetype_ohc</th>\n",
       "      <th>enginetype_ohcf</th>\n",
       "      <th>enginetype_ohcv</th>\n",
       "      <th>enginetype_rotor</th>\n",
       "      <th>cylindernumber_five</th>\n",
       "      <th>cylindernumber_four</th>\n",
       "      <th>cylindernumber_six</th>\n",
       "      <th>cylindernumber_three</th>\n",
       "      <th>cylindernumber_twelve</th>\n",
       "      <th>cylindernumber_two</th>\n",
       "      <th>fuelsystem_2bbl</th>\n",
       "      <th>fuelsystem_4bbl</th>\n",
       "      <th>fuelsystem_idi</th>\n",
       "      <th>fuelsystem_mfi</th>\n",
       "      <th>fuelsystem_mpfi</th>\n",
       "      <th>fuelsystem_spdi</th>\n",
       "      <th>fuelsystem_spfi</th>\n",
       "    </tr>\n",
       "  </thead>\n",
       "  <tbody>\n",
       "    <tr>\n",
       "      <th>0</th>\n",
       "      <td>88.6</td>\n",
       "      <td>3.47</td>\n",
       "      <td>111</td>\n",
       "      <td>21</td>\n",
       "      <td>13495.0</td>\n",
       "      <td>0</td>\n",
       "      <td>0</td>\n",
       "      <td>0</td>\n",
       "      <td>0</td>\n",
       "      <td>1</td>\n",
       "      <td>0</td>\n",
       "      <td>0</td>\n",
       "      <td>0</td>\n",
       "      <td>0</td>\n",
       "      <td>0</td>\n",
       "      <td>0</td>\n",
       "      <td>0</td>\n",
       "      <td>0</td>\n",
       "      <td>0</td>\n",
       "      <td>0</td>\n",
       "      <td>0</td>\n",
       "      <td>0</td>\n",
       "      <td>0</td>\n",
       "      <td>0</td>\n",
       "      <td>0</td>\n",
       "      <td>0</td>\n",
       "      <td>0</td>\n",
       "      <td>0</td>\n",
       "      <td>0</td>\n",
       "      <td>0</td>\n",
       "      <td>0</td>\n",
       "      <td>1</td>\n",
       "      <td>0</td>\n",
       "      <td>1</td>\n",
       "      <td>0</td>\n",
       "      <td>0</td>\n",
       "      <td>0</td>\n",
       "      <td>0</td>\n",
       "      <td>0</td>\n",
       "      <td>1</td>\n",
       "      <td>0</td>\n",
       "      <td>0</td>\n",
       "      <td>0</td>\n",
       "      <td>0</td>\n",
       "      <td>0</td>\n",
       "      <td>0</td>\n",
       "      <td>0</td>\n",
       "      <td>0</td>\n",
       "      <td>1</td>\n",
       "      <td>0</td>\n",
       "      <td>0</td>\n",
       "      <td>0</td>\n",
       "      <td>0</td>\n",
       "      <td>0</td>\n",
       "      <td>0</td>\n",
       "      <td>0</td>\n",
       "      <td>0</td>\n",
       "      <td>1</td>\n",
       "      <td>0</td>\n",
       "      <td>0</td>\n",
       "    </tr>\n",
       "    <tr>\n",
       "      <th>1</th>\n",
       "      <td>88.6</td>\n",
       "      <td>3.47</td>\n",
       "      <td>111</td>\n",
       "      <td>21</td>\n",
       "      <td>16500.0</td>\n",
       "      <td>0</td>\n",
       "      <td>0</td>\n",
       "      <td>0</td>\n",
       "      <td>0</td>\n",
       "      <td>1</td>\n",
       "      <td>0</td>\n",
       "      <td>0</td>\n",
       "      <td>0</td>\n",
       "      <td>0</td>\n",
       "      <td>0</td>\n",
       "      <td>0</td>\n",
       "      <td>0</td>\n",
       "      <td>0</td>\n",
       "      <td>0</td>\n",
       "      <td>0</td>\n",
       "      <td>0</td>\n",
       "      <td>0</td>\n",
       "      <td>0</td>\n",
       "      <td>0</td>\n",
       "      <td>0</td>\n",
       "      <td>0</td>\n",
       "      <td>0</td>\n",
       "      <td>0</td>\n",
       "      <td>0</td>\n",
       "      <td>0</td>\n",
       "      <td>0</td>\n",
       "      <td>1</td>\n",
       "      <td>0</td>\n",
       "      <td>1</td>\n",
       "      <td>0</td>\n",
       "      <td>0</td>\n",
       "      <td>0</td>\n",
       "      <td>0</td>\n",
       "      <td>0</td>\n",
       "      <td>1</td>\n",
       "      <td>0</td>\n",
       "      <td>0</td>\n",
       "      <td>0</td>\n",
       "      <td>0</td>\n",
       "      <td>0</td>\n",
       "      <td>0</td>\n",
       "      <td>0</td>\n",
       "      <td>0</td>\n",
       "      <td>1</td>\n",
       "      <td>0</td>\n",
       "      <td>0</td>\n",
       "      <td>0</td>\n",
       "      <td>0</td>\n",
       "      <td>0</td>\n",
       "      <td>0</td>\n",
       "      <td>0</td>\n",
       "      <td>0</td>\n",
       "      <td>1</td>\n",
       "      <td>0</td>\n",
       "      <td>0</td>\n",
       "    </tr>\n",
       "    <tr>\n",
       "      <th>2</th>\n",
       "      <td>94.5</td>\n",
       "      <td>2.68</td>\n",
       "      <td>154</td>\n",
       "      <td>19</td>\n",
       "      <td>16500.0</td>\n",
       "      <td>0</td>\n",
       "      <td>0</td>\n",
       "      <td>1</td>\n",
       "      <td>0</td>\n",
       "      <td>0</td>\n",
       "      <td>0</td>\n",
       "      <td>0</td>\n",
       "      <td>0</td>\n",
       "      <td>0</td>\n",
       "      <td>0</td>\n",
       "      <td>0</td>\n",
       "      <td>0</td>\n",
       "      <td>0</td>\n",
       "      <td>0</td>\n",
       "      <td>0</td>\n",
       "      <td>0</td>\n",
       "      <td>0</td>\n",
       "      <td>0</td>\n",
       "      <td>0</td>\n",
       "      <td>0</td>\n",
       "      <td>0</td>\n",
       "      <td>0</td>\n",
       "      <td>0</td>\n",
       "      <td>0</td>\n",
       "      <td>0</td>\n",
       "      <td>0</td>\n",
       "      <td>1</td>\n",
       "      <td>0</td>\n",
       "      <td>1</td>\n",
       "      <td>0</td>\n",
       "      <td>1</td>\n",
       "      <td>0</td>\n",
       "      <td>0</td>\n",
       "      <td>0</td>\n",
       "      <td>1</td>\n",
       "      <td>0</td>\n",
       "      <td>0</td>\n",
       "      <td>0</td>\n",
       "      <td>0</td>\n",
       "      <td>0</td>\n",
       "      <td>1</td>\n",
       "      <td>0</td>\n",
       "      <td>0</td>\n",
       "      <td>0</td>\n",
       "      <td>1</td>\n",
       "      <td>0</td>\n",
       "      <td>0</td>\n",
       "      <td>0</td>\n",
       "      <td>0</td>\n",
       "      <td>0</td>\n",
       "      <td>0</td>\n",
       "      <td>0</td>\n",
       "      <td>1</td>\n",
       "      <td>0</td>\n",
       "      <td>0</td>\n",
       "    </tr>\n",
       "    <tr>\n",
       "      <th>3</th>\n",
       "      <td>99.8</td>\n",
       "      <td>3.19</td>\n",
       "      <td>102</td>\n",
       "      <td>24</td>\n",
       "      <td>13950.0</td>\n",
       "      <td>0</td>\n",
       "      <td>0</td>\n",
       "      <td>0</td>\n",
       "      <td>1</td>\n",
       "      <td>0</td>\n",
       "      <td>1</td>\n",
       "      <td>0</td>\n",
       "      <td>0</td>\n",
       "      <td>0</td>\n",
       "      <td>0</td>\n",
       "      <td>0</td>\n",
       "      <td>0</td>\n",
       "      <td>0</td>\n",
       "      <td>0</td>\n",
       "      <td>0</td>\n",
       "      <td>0</td>\n",
       "      <td>0</td>\n",
       "      <td>0</td>\n",
       "      <td>0</td>\n",
       "      <td>0</td>\n",
       "      <td>0</td>\n",
       "      <td>0</td>\n",
       "      <td>0</td>\n",
       "      <td>0</td>\n",
       "      <td>0</td>\n",
       "      <td>0</td>\n",
       "      <td>1</td>\n",
       "      <td>0</td>\n",
       "      <td>0</td>\n",
       "      <td>0</td>\n",
       "      <td>0</td>\n",
       "      <td>1</td>\n",
       "      <td>0</td>\n",
       "      <td>1</td>\n",
       "      <td>0</td>\n",
       "      <td>0</td>\n",
       "      <td>0</td>\n",
       "      <td>0</td>\n",
       "      <td>1</td>\n",
       "      <td>0</td>\n",
       "      <td>0</td>\n",
       "      <td>0</td>\n",
       "      <td>0</td>\n",
       "      <td>1</td>\n",
       "      <td>0</td>\n",
       "      <td>0</td>\n",
       "      <td>0</td>\n",
       "      <td>0</td>\n",
       "      <td>0</td>\n",
       "      <td>0</td>\n",
       "      <td>0</td>\n",
       "      <td>0</td>\n",
       "      <td>1</td>\n",
       "      <td>0</td>\n",
       "      <td>0</td>\n",
       "    </tr>\n",
       "    <tr>\n",
       "      <th>4</th>\n",
       "      <td>99.4</td>\n",
       "      <td>3.19</td>\n",
       "      <td>115</td>\n",
       "      <td>18</td>\n",
       "      <td>17450.0</td>\n",
       "      <td>0</td>\n",
       "      <td>0</td>\n",
       "      <td>0</td>\n",
       "      <td>1</td>\n",
       "      <td>0</td>\n",
       "      <td>1</td>\n",
       "      <td>0</td>\n",
       "      <td>0</td>\n",
       "      <td>0</td>\n",
       "      <td>0</td>\n",
       "      <td>0</td>\n",
       "      <td>0</td>\n",
       "      <td>0</td>\n",
       "      <td>0</td>\n",
       "      <td>0</td>\n",
       "      <td>0</td>\n",
       "      <td>0</td>\n",
       "      <td>0</td>\n",
       "      <td>0</td>\n",
       "      <td>0</td>\n",
       "      <td>0</td>\n",
       "      <td>0</td>\n",
       "      <td>0</td>\n",
       "      <td>0</td>\n",
       "      <td>0</td>\n",
       "      <td>0</td>\n",
       "      <td>1</td>\n",
       "      <td>0</td>\n",
       "      <td>0</td>\n",
       "      <td>0</td>\n",
       "      <td>0</td>\n",
       "      <td>1</td>\n",
       "      <td>0</td>\n",
       "      <td>0</td>\n",
       "      <td>0</td>\n",
       "      <td>0</td>\n",
       "      <td>0</td>\n",
       "      <td>0</td>\n",
       "      <td>1</td>\n",
       "      <td>0</td>\n",
       "      <td>0</td>\n",
       "      <td>0</td>\n",
       "      <td>1</td>\n",
       "      <td>0</td>\n",
       "      <td>0</td>\n",
       "      <td>0</td>\n",
       "      <td>0</td>\n",
       "      <td>0</td>\n",
       "      <td>0</td>\n",
       "      <td>0</td>\n",
       "      <td>0</td>\n",
       "      <td>0</td>\n",
       "      <td>1</td>\n",
       "      <td>0</td>\n",
       "      <td>0</td>\n",
       "    </tr>\n",
       "  </tbody>\n",
       "</table>\n",
       "</div>"
      ],
      "text/plain": [
       "   wheelbase  boreratio  horsepower  citympg    price  symboling_-1  \\\n",
       "0       88.6       3.47         111       21  13495.0             0   \n",
       "1       88.6       3.47         111       21  16500.0             0   \n",
       "2       94.5       2.68         154       19  16500.0             0   \n",
       "3       99.8       3.19         102       24  13950.0             0   \n",
       "4       99.4       3.19         115       18  17450.0             0   \n",
       "\n",
       "   symboling_0  symboling_1  symboling_2  symboling_3  CompanyName_audi  \\\n",
       "0            0            0            0            1                 0   \n",
       "1            0            0            0            1                 0   \n",
       "2            0            1            0            0                 0   \n",
       "3            0            0            1            0                 1   \n",
       "4            0            0            1            0                 1   \n",
       "\n",
       "   CompanyName_bmw  CompanyName_buick  CompanyName_chevrolet  \\\n",
       "0                0                  0                      0   \n",
       "1                0                  0                      0   \n",
       "2                0                  0                      0   \n",
       "3                0                  0                      0   \n",
       "4                0                  0                      0   \n",
       "\n",
       "   CompanyName_dodge  CompanyName_honda  CompanyName_isuzu  \\\n",
       "0                  0                  0                  0   \n",
       "1                  0                  0                  0   \n",
       "2                  0                  0                  0   \n",
       "3                  0                  0                  0   \n",
       "4                  0                  0                  0   \n",
       "\n",
       "   CompanyName_jaguar  CompanyName_mazda  CompanyName_mercury  \\\n",
       "0                   0                  0                    0   \n",
       "1                   0                  0                    0   \n",
       "2                   0                  0                    0   \n",
       "3                   0                  0                    0   \n",
       "4                   0                  0                    0   \n",
       "\n",
       "   CompanyName_mitsubishi  CompanyName_nissan  CompanyName_peugeot  \\\n",
       "0                       0                   0                    0   \n",
       "1                       0                   0                    0   \n",
       "2                       0                   0                    0   \n",
       "3                       0                   0                    0   \n",
       "4                       0                   0                    0   \n",
       "\n",
       "   CompanyName_plymouth  CompanyName_porsche  CompanyName_renault  \\\n",
       "0                     0                    0                    0   \n",
       "1                     0                    0                    0   \n",
       "2                     0                    0                    0   \n",
       "3                     0                    0                    0   \n",
       "4                     0                    0                    0   \n",
       "\n",
       "   CompanyName_saab  CompanyName_subaru  CompanyName_toyota  \\\n",
       "0                 0                   0                   0   \n",
       "1                 0                   0                   0   \n",
       "2                 0                   0                   0   \n",
       "3                 0                   0                   0   \n",
       "4                 0                   0                   0   \n",
       "\n",
       "   CompanyName_volkswagen  CompanyName_volvo  fueltype_gas  aspiration_turbo  \\\n",
       "0                       0                  0             1                 0   \n",
       "1                       0                  0             1                 0   \n",
       "2                       0                  0             1                 0   \n",
       "3                       0                  0             1                 0   \n",
       "4                       0                  0             1                 0   \n",
       "\n",
       "   doornumber_two  carbody_hardtop  carbody_hatchback  carbody_sedan  \\\n",
       "0               1                0                  0              0   \n",
       "1               1                0                  0              0   \n",
       "2               1                0                  1              0   \n",
       "3               0                0                  0              1   \n",
       "4               0                0                  0              1   \n",
       "\n",
       "   carbody_wagon  drivewheel_fwd  drivewheel_rwd  enginelocation_rear  \\\n",
       "0              0               0               1                    0   \n",
       "1              0               0               1                    0   \n",
       "2              0               0               1                    0   \n",
       "3              0               1               0                    0   \n",
       "4              0               0               0                    0   \n",
       "\n",
       "   enginetype_dohcv  enginetype_l  enginetype_ohc  enginetype_ohcf  \\\n",
       "0                 0             0               0                0   \n",
       "1                 0             0               0                0   \n",
       "2                 0             0               0                0   \n",
       "3                 0             0               1                0   \n",
       "4                 0             0               1                0   \n",
       "\n",
       "   enginetype_ohcv  enginetype_rotor  cylindernumber_five  \\\n",
       "0                0                 0                    0   \n",
       "1                0                 0                    0   \n",
       "2                1                 0                    0   \n",
       "3                0                 0                    0   \n",
       "4                0                 0                    1   \n",
       "\n",
       "   cylindernumber_four  cylindernumber_six  cylindernumber_three  \\\n",
       "0                    1                   0                     0   \n",
       "1                    1                   0                     0   \n",
       "2                    0                   1                     0   \n",
       "3                    1                   0                     0   \n",
       "4                    0                   0                     0   \n",
       "\n",
       "   cylindernumber_twelve  cylindernumber_two  fuelsystem_2bbl  \\\n",
       "0                      0                   0                0   \n",
       "1                      0                   0                0   \n",
       "2                      0                   0                0   \n",
       "3                      0                   0                0   \n",
       "4                      0                   0                0   \n",
       "\n",
       "   fuelsystem_4bbl  fuelsystem_idi  fuelsystem_mfi  fuelsystem_mpfi  \\\n",
       "0                0               0               0                1   \n",
       "1                0               0               0                1   \n",
       "2                0               0               0                1   \n",
       "3                0               0               0                1   \n",
       "4                0               0               0                1   \n",
       "\n",
       "   fuelsystem_spdi  fuelsystem_spfi  \n",
       "0                0                0  \n",
       "1                0                0  \n",
       "2                0                0  \n",
       "3                0                0  \n",
       "4                0                0  "
      ]
     },
     "execution_count": 46,
     "metadata": {},
     "output_type": "execute_result"
    }
   ],
   "source": [
    "dataset.head()"
   ]
  },
  {
   "cell_type": "markdown",
   "id": "accepted-sector",
   "metadata": {},
   "source": [
    "- And here is our Dataset, all is numeric"
   ]
  },
  {
   "cell_type": "code",
   "execution_count": 47,
   "id": "guided-split",
   "metadata": {},
   "outputs": [
    {
     "data": {
      "text/plain": [
       "(205, 60)"
      ]
     },
     "execution_count": 47,
     "metadata": {},
     "output_type": "execute_result"
    }
   ],
   "source": [
    "dataset.shape"
   ]
  },
  {
   "cell_type": "markdown",
   "id": "prepared-antigua",
   "metadata": {},
   "source": [
    "## Splitting data into train-test"
   ]
  },
  {
   "cell_type": "code",
   "execution_count": 48,
   "id": "least-trout",
   "metadata": {},
   "outputs": [],
   "source": [
    "from sklearn.model_selection import train_test_split\n",
    "\n",
    "# We specify this so that the train and test data set always have the same rows, respectively\n",
    "cars_train, cars_test= train_test_split(dataset, test_size=0.33, random_state = 0)"
   ]
  },
  {
   "cell_type": "markdown",
   "id": "expressed-rabbit",
   "metadata": {},
   "source": [
    "**Feature Scaling: Train Set & Test Set**"
   ]
  },
  {
   "cell_type": "code",
   "execution_count": 49,
   "id": "exempt-system",
   "metadata": {},
   "outputs": [
    {
     "data": {
      "text/html": [
       "<div>\n",
       "<style scoped>\n",
       "    .dataframe tbody tr th:only-of-type {\n",
       "        vertical-align: middle;\n",
       "    }\n",
       "\n",
       "    .dataframe tbody tr th {\n",
       "        vertical-align: top;\n",
       "    }\n",
       "\n",
       "    .dataframe thead th {\n",
       "        text-align: right;\n",
       "    }\n",
       "</style>\n",
       "<table border=\"1\" class=\"dataframe\">\n",
       "  <thead>\n",
       "    <tr style=\"text-align: right;\">\n",
       "      <th></th>\n",
       "      <th>wheelbase</th>\n",
       "      <th>boreratio</th>\n",
       "      <th>horsepower</th>\n",
       "      <th>citympg</th>\n",
       "      <th>price</th>\n",
       "      <th>symboling_-1</th>\n",
       "      <th>symboling_0</th>\n",
       "      <th>symboling_1</th>\n",
       "      <th>symboling_2</th>\n",
       "      <th>symboling_3</th>\n",
       "      <th>CompanyName_audi</th>\n",
       "      <th>CompanyName_bmw</th>\n",
       "      <th>CompanyName_buick</th>\n",
       "      <th>CompanyName_chevrolet</th>\n",
       "      <th>CompanyName_dodge</th>\n",
       "      <th>CompanyName_honda</th>\n",
       "      <th>CompanyName_isuzu</th>\n",
       "      <th>CompanyName_jaguar</th>\n",
       "      <th>CompanyName_mazda</th>\n",
       "      <th>CompanyName_mercury</th>\n",
       "      <th>CompanyName_mitsubishi</th>\n",
       "      <th>CompanyName_nissan</th>\n",
       "      <th>CompanyName_peugeot</th>\n",
       "      <th>CompanyName_plymouth</th>\n",
       "      <th>CompanyName_porsche</th>\n",
       "      <th>CompanyName_renault</th>\n",
       "      <th>CompanyName_saab</th>\n",
       "      <th>CompanyName_subaru</th>\n",
       "      <th>CompanyName_toyota</th>\n",
       "      <th>CompanyName_volkswagen</th>\n",
       "      <th>CompanyName_volvo</th>\n",
       "      <th>fueltype_gas</th>\n",
       "      <th>aspiration_turbo</th>\n",
       "      <th>doornumber_two</th>\n",
       "      <th>carbody_hardtop</th>\n",
       "      <th>carbody_hatchback</th>\n",
       "      <th>carbody_sedan</th>\n",
       "      <th>carbody_wagon</th>\n",
       "      <th>drivewheel_fwd</th>\n",
       "      <th>drivewheel_rwd</th>\n",
       "      <th>enginelocation_rear</th>\n",
       "      <th>enginetype_dohcv</th>\n",
       "      <th>enginetype_l</th>\n",
       "      <th>enginetype_ohc</th>\n",
       "      <th>enginetype_ohcf</th>\n",
       "      <th>enginetype_ohcv</th>\n",
       "      <th>enginetype_rotor</th>\n",
       "      <th>cylindernumber_five</th>\n",
       "      <th>cylindernumber_four</th>\n",
       "      <th>cylindernumber_six</th>\n",
       "      <th>cylindernumber_three</th>\n",
       "      <th>cylindernumber_twelve</th>\n",
       "      <th>cylindernumber_two</th>\n",
       "      <th>fuelsystem_2bbl</th>\n",
       "      <th>fuelsystem_4bbl</th>\n",
       "      <th>fuelsystem_idi</th>\n",
       "      <th>fuelsystem_mfi</th>\n",
       "      <th>fuelsystem_mpfi</th>\n",
       "      <th>fuelsystem_spdi</th>\n",
       "      <th>fuelsystem_spfi</th>\n",
       "    </tr>\n",
       "  </thead>\n",
       "  <tbody>\n",
       "    <tr>\n",
       "      <th>155</th>\n",
       "      <td>-0.534054</td>\n",
       "      <td>-1.097737</td>\n",
       "      <td>-1.103524</td>\n",
       "      <td>0.333598</td>\n",
       "      <td>-0.583062</td>\n",
       "      <td>0</td>\n",
       "      <td>1</td>\n",
       "      <td>0</td>\n",
       "      <td>0</td>\n",
       "      <td>0</td>\n",
       "      <td>0</td>\n",
       "      <td>0</td>\n",
       "      <td>0</td>\n",
       "      <td>0</td>\n",
       "      <td>0</td>\n",
       "      <td>0</td>\n",
       "      <td>0</td>\n",
       "      <td>0</td>\n",
       "      <td>0</td>\n",
       "      <td>0</td>\n",
       "      <td>0</td>\n",
       "      <td>0</td>\n",
       "      <td>0</td>\n",
       "      <td>0</td>\n",
       "      <td>0</td>\n",
       "      <td>0</td>\n",
       "      <td>0</td>\n",
       "      <td>0</td>\n",
       "      <td>1</td>\n",
       "      <td>0</td>\n",
       "      <td>0</td>\n",
       "      <td>1</td>\n",
       "      <td>0</td>\n",
       "      <td>0</td>\n",
       "      <td>0</td>\n",
       "      <td>0</td>\n",
       "      <td>0</td>\n",
       "      <td>1</td>\n",
       "      <td>0</td>\n",
       "      <td>0</td>\n",
       "      <td>0</td>\n",
       "      <td>0</td>\n",
       "      <td>0</td>\n",
       "      <td>1</td>\n",
       "      <td>0</td>\n",
       "      <td>0</td>\n",
       "      <td>0</td>\n",
       "      <td>0</td>\n",
       "      <td>1</td>\n",
       "      <td>0</td>\n",
       "      <td>0</td>\n",
       "      <td>0</td>\n",
       "      <td>0</td>\n",
       "      <td>1</td>\n",
       "      <td>0</td>\n",
       "      <td>0</td>\n",
       "      <td>0</td>\n",
       "      <td>0</td>\n",
       "      <td>0</td>\n",
       "      <td>0</td>\n",
       "    </tr>\n",
       "    <tr>\n",
       "      <th>97</th>\n",
       "      <td>-0.723234</td>\n",
       "      <td>-0.725116</td>\n",
       "      <td>-0.921031</td>\n",
       "      <td>1.008180</td>\n",
       "      <td>-0.680192</td>\n",
       "      <td>0</td>\n",
       "      <td>0</td>\n",
       "      <td>1</td>\n",
       "      <td>0</td>\n",
       "      <td>0</td>\n",
       "      <td>0</td>\n",
       "      <td>0</td>\n",
       "      <td>0</td>\n",
       "      <td>0</td>\n",
       "      <td>0</td>\n",
       "      <td>0</td>\n",
       "      <td>0</td>\n",
       "      <td>0</td>\n",
       "      <td>0</td>\n",
       "      <td>0</td>\n",
       "      <td>0</td>\n",
       "      <td>1</td>\n",
       "      <td>0</td>\n",
       "      <td>0</td>\n",
       "      <td>0</td>\n",
       "      <td>0</td>\n",
       "      <td>0</td>\n",
       "      <td>0</td>\n",
       "      <td>0</td>\n",
       "      <td>0</td>\n",
       "      <td>0</td>\n",
       "      <td>1</td>\n",
       "      <td>0</td>\n",
       "      <td>0</td>\n",
       "      <td>0</td>\n",
       "      <td>0</td>\n",
       "      <td>0</td>\n",
       "      <td>1</td>\n",
       "      <td>1</td>\n",
       "      <td>0</td>\n",
       "      <td>0</td>\n",
       "      <td>0</td>\n",
       "      <td>0</td>\n",
       "      <td>1</td>\n",
       "      <td>0</td>\n",
       "      <td>0</td>\n",
       "      <td>0</td>\n",
       "      <td>0</td>\n",
       "      <td>1</td>\n",
       "      <td>0</td>\n",
       "      <td>0</td>\n",
       "      <td>0</td>\n",
       "      <td>0</td>\n",
       "      <td>1</td>\n",
       "      <td>0</td>\n",
       "      <td>0</td>\n",
       "      <td>0</td>\n",
       "      <td>0</td>\n",
       "      <td>0</td>\n",
       "      <td>0</td>\n",
       "    </tr>\n",
       "    <tr>\n",
       "      <th>54</th>\n",
       "      <td>-0.943944</td>\n",
       "      <td>-0.985950</td>\n",
       "      <td>-0.947101</td>\n",
       "      <td>1.008180</td>\n",
       "      <td>-0.755502</td>\n",
       "      <td>0</td>\n",
       "      <td>0</td>\n",
       "      <td>1</td>\n",
       "      <td>0</td>\n",
       "      <td>0</td>\n",
       "      <td>0</td>\n",
       "      <td>0</td>\n",
       "      <td>0</td>\n",
       "      <td>0</td>\n",
       "      <td>0</td>\n",
       "      <td>0</td>\n",
       "      <td>0</td>\n",
       "      <td>0</td>\n",
       "      <td>1</td>\n",
       "      <td>0</td>\n",
       "      <td>0</td>\n",
       "      <td>0</td>\n",
       "      <td>0</td>\n",
       "      <td>0</td>\n",
       "      <td>0</td>\n",
       "      <td>0</td>\n",
       "      <td>0</td>\n",
       "      <td>0</td>\n",
       "      <td>0</td>\n",
       "      <td>0</td>\n",
       "      <td>0</td>\n",
       "      <td>1</td>\n",
       "      <td>0</td>\n",
       "      <td>0</td>\n",
       "      <td>0</td>\n",
       "      <td>0</td>\n",
       "      <td>1</td>\n",
       "      <td>0</td>\n",
       "      <td>1</td>\n",
       "      <td>0</td>\n",
       "      <td>0</td>\n",
       "      <td>0</td>\n",
       "      <td>0</td>\n",
       "      <td>1</td>\n",
       "      <td>0</td>\n",
       "      <td>0</td>\n",
       "      <td>0</td>\n",
       "      <td>0</td>\n",
       "      <td>1</td>\n",
       "      <td>0</td>\n",
       "      <td>0</td>\n",
       "      <td>0</td>\n",
       "      <td>0</td>\n",
       "      <td>1</td>\n",
       "      <td>0</td>\n",
       "      <td>0</td>\n",
       "      <td>0</td>\n",
       "      <td>0</td>\n",
       "      <td>0</td>\n",
       "      <td>0</td>\n",
       "    </tr>\n",
       "    <tr>\n",
       "      <th>184</th>\n",
       "      <td>-0.281814</td>\n",
       "      <td>-1.246785</td>\n",
       "      <td>-1.364229</td>\n",
       "      <td>2.020054</td>\n",
       "      <td>-0.680691</td>\n",
       "      <td>0</td>\n",
       "      <td>0</td>\n",
       "      <td>0</td>\n",
       "      <td>1</td>\n",
       "      <td>0</td>\n",
       "      <td>0</td>\n",
       "      <td>0</td>\n",
       "      <td>0</td>\n",
       "      <td>0</td>\n",
       "      <td>0</td>\n",
       "      <td>0</td>\n",
       "      <td>0</td>\n",
       "      <td>0</td>\n",
       "      <td>0</td>\n",
       "      <td>0</td>\n",
       "      <td>0</td>\n",
       "      <td>0</td>\n",
       "      <td>0</td>\n",
       "      <td>0</td>\n",
       "      <td>0</td>\n",
       "      <td>0</td>\n",
       "      <td>0</td>\n",
       "      <td>0</td>\n",
       "      <td>0</td>\n",
       "      <td>1</td>\n",
       "      <td>0</td>\n",
       "      <td>0</td>\n",
       "      <td>0</td>\n",
       "      <td>0</td>\n",
       "      <td>0</td>\n",
       "      <td>0</td>\n",
       "      <td>1</td>\n",
       "      <td>0</td>\n",
       "      <td>1</td>\n",
       "      <td>0</td>\n",
       "      <td>0</td>\n",
       "      <td>0</td>\n",
       "      <td>0</td>\n",
       "      <td>1</td>\n",
       "      <td>0</td>\n",
       "      <td>0</td>\n",
       "      <td>0</td>\n",
       "      <td>0</td>\n",
       "      <td>1</td>\n",
       "      <td>0</td>\n",
       "      <td>0</td>\n",
       "      <td>0</td>\n",
       "      <td>0</td>\n",
       "      <td>0</td>\n",
       "      <td>0</td>\n",
       "      <td>1</td>\n",
       "      <td>0</td>\n",
       "      <td>0</td>\n",
       "      <td>0</td>\n",
       "      <td>0</td>\n",
       "    </tr>\n",
       "    <tr>\n",
       "      <th>51</th>\n",
       "      <td>-0.943944</td>\n",
       "      <td>-1.172261</td>\n",
       "      <td>-0.947101</td>\n",
       "      <td>1.008180</td>\n",
       "      <td>-0.917592</td>\n",
       "      <td>0</td>\n",
       "      <td>0</td>\n",
       "      <td>1</td>\n",
       "      <td>0</td>\n",
       "      <td>0</td>\n",
       "      <td>0</td>\n",
       "      <td>0</td>\n",
       "      <td>0</td>\n",
       "      <td>0</td>\n",
       "      <td>0</td>\n",
       "      <td>0</td>\n",
       "      <td>0</td>\n",
       "      <td>0</td>\n",
       "      <td>1</td>\n",
       "      <td>0</td>\n",
       "      <td>0</td>\n",
       "      <td>0</td>\n",
       "      <td>0</td>\n",
       "      <td>0</td>\n",
       "      <td>0</td>\n",
       "      <td>0</td>\n",
       "      <td>0</td>\n",
       "      <td>0</td>\n",
       "      <td>0</td>\n",
       "      <td>0</td>\n",
       "      <td>0</td>\n",
       "      <td>1</td>\n",
       "      <td>0</td>\n",
       "      <td>1</td>\n",
       "      <td>0</td>\n",
       "      <td>1</td>\n",
       "      <td>0</td>\n",
       "      <td>0</td>\n",
       "      <td>1</td>\n",
       "      <td>0</td>\n",
       "      <td>0</td>\n",
       "      <td>0</td>\n",
       "      <td>0</td>\n",
       "      <td>1</td>\n",
       "      <td>0</td>\n",
       "      <td>0</td>\n",
       "      <td>0</td>\n",
       "      <td>0</td>\n",
       "      <td>1</td>\n",
       "      <td>0</td>\n",
       "      <td>0</td>\n",
       "      <td>0</td>\n",
       "      <td>0</td>\n",
       "      <td>1</td>\n",
       "      <td>0</td>\n",
       "      <td>0</td>\n",
       "      <td>0</td>\n",
       "      <td>0</td>\n",
       "      <td>0</td>\n",
       "      <td>0</td>\n",
       "    </tr>\n",
       "  </tbody>\n",
       "</table>\n",
       "</div>"
      ],
      "text/plain": [
       "     wheelbase  boreratio  horsepower   citympg     price  symboling_-1  \\\n",
       "155  -0.534054  -1.097737   -1.103524  0.333598 -0.583062             0   \n",
       "97   -0.723234  -0.725116   -0.921031  1.008180 -0.680192             0   \n",
       "54   -0.943944  -0.985950   -0.947101  1.008180 -0.755502             0   \n",
       "184  -0.281814  -1.246785   -1.364229  2.020054 -0.680691             0   \n",
       "51   -0.943944  -1.172261   -0.947101  1.008180 -0.917592             0   \n",
       "\n",
       "     symboling_0  symboling_1  symboling_2  symboling_3  CompanyName_audi  \\\n",
       "155            1            0            0            0                 0   \n",
       "97             0            1            0            0                 0   \n",
       "54             0            1            0            0                 0   \n",
       "184            0            0            1            0                 0   \n",
       "51             0            1            0            0                 0   \n",
       "\n",
       "     CompanyName_bmw  CompanyName_buick  CompanyName_chevrolet  \\\n",
       "155                0                  0                      0   \n",
       "97                 0                  0                      0   \n",
       "54                 0                  0                      0   \n",
       "184                0                  0                      0   \n",
       "51                 0                  0                      0   \n",
       "\n",
       "     CompanyName_dodge  CompanyName_honda  CompanyName_isuzu  \\\n",
       "155                  0                  0                  0   \n",
       "97                   0                  0                  0   \n",
       "54                   0                  0                  0   \n",
       "184                  0                  0                  0   \n",
       "51                   0                  0                  0   \n",
       "\n",
       "     CompanyName_jaguar  CompanyName_mazda  CompanyName_mercury  \\\n",
       "155                   0                  0                    0   \n",
       "97                    0                  0                    0   \n",
       "54                    0                  1                    0   \n",
       "184                   0                  0                    0   \n",
       "51                    0                  1                    0   \n",
       "\n",
       "     CompanyName_mitsubishi  CompanyName_nissan  CompanyName_peugeot  \\\n",
       "155                       0                   0                    0   \n",
       "97                        0                   1                    0   \n",
       "54                        0                   0                    0   \n",
       "184                       0                   0                    0   \n",
       "51                        0                   0                    0   \n",
       "\n",
       "     CompanyName_plymouth  CompanyName_porsche  CompanyName_renault  \\\n",
       "155                     0                    0                    0   \n",
       "97                      0                    0                    0   \n",
       "54                      0                    0                    0   \n",
       "184                     0                    0                    0   \n",
       "51                      0                    0                    0   \n",
       "\n",
       "     CompanyName_saab  CompanyName_subaru  CompanyName_toyota  \\\n",
       "155                 0                   0                   1   \n",
       "97                  0                   0                   0   \n",
       "54                  0                   0                   0   \n",
       "184                 0                   0                   0   \n",
       "51                  0                   0                   0   \n",
       "\n",
       "     CompanyName_volkswagen  CompanyName_volvo  fueltype_gas  \\\n",
       "155                       0                  0             1   \n",
       "97                        0                  0             1   \n",
       "54                        0                  0             1   \n",
       "184                       1                  0             0   \n",
       "51                        0                  0             1   \n",
       "\n",
       "     aspiration_turbo  doornumber_two  carbody_hardtop  carbody_hatchback  \\\n",
       "155                 0               0                0                  0   \n",
       "97                  0               0                0                  0   \n",
       "54                  0               0                0                  0   \n",
       "184                 0               0                0                  0   \n",
       "51                  0               1                0                  1   \n",
       "\n",
       "     carbody_sedan  carbody_wagon  drivewheel_fwd  drivewheel_rwd  \\\n",
       "155              0              1               0               0   \n",
       "97               0              1               1               0   \n",
       "54               1              0               1               0   \n",
       "184              1              0               1               0   \n",
       "51               0              0               1               0   \n",
       "\n",
       "     enginelocation_rear  enginetype_dohcv  enginetype_l  enginetype_ohc  \\\n",
       "155                    0                 0             0               1   \n",
       "97                     0                 0             0               1   \n",
       "54                     0                 0             0               1   \n",
       "184                    0                 0             0               1   \n",
       "51                     0                 0             0               1   \n",
       "\n",
       "     enginetype_ohcf  enginetype_ohcv  enginetype_rotor  cylindernumber_five  \\\n",
       "155                0                0                 0                    0   \n",
       "97                 0                0                 0                    0   \n",
       "54                 0                0                 0                    0   \n",
       "184                0                0                 0                    0   \n",
       "51                 0                0                 0                    0   \n",
       "\n",
       "     cylindernumber_four  cylindernumber_six  cylindernumber_three  \\\n",
       "155                    1                   0                     0   \n",
       "97                     1                   0                     0   \n",
       "54                     1                   0                     0   \n",
       "184                    1                   0                     0   \n",
       "51                     1                   0                     0   \n",
       "\n",
       "     cylindernumber_twelve  cylindernumber_two  fuelsystem_2bbl  \\\n",
       "155                      0                   0                1   \n",
       "97                       0                   0                1   \n",
       "54                       0                   0                1   \n",
       "184                      0                   0                0   \n",
       "51                       0                   0                1   \n",
       "\n",
       "     fuelsystem_4bbl  fuelsystem_idi  fuelsystem_mfi  fuelsystem_mpfi  \\\n",
       "155                0               0               0                0   \n",
       "97                 0               0               0                0   \n",
       "54                 0               0               0                0   \n",
       "184                0               1               0                0   \n",
       "51                 0               0               0                0   \n",
       "\n",
       "     fuelsystem_spdi  fuelsystem_spfi  \n",
       "155                0                0  \n",
       "97                 0                0  \n",
       "54                 0                0  \n",
       "184                0                0  \n",
       "51                 0                0  "
      ]
     },
     "execution_count": 49,
     "metadata": {},
     "output_type": "execute_result"
    }
   ],
   "source": [
    "from sklearn.preprocessing import StandardScaler,scale\n",
    "#we create an object of the class StandardScaler\n",
    "sc = StandardScaler() \n",
    "\n",
    "col_to_scale = ['wheelbase','boreratio','horsepower','citympg','price',]\n",
    "\n",
    "cars_train[col_to_scale] = sc.fit_transform(cars_train[col_to_scale])\n",
    "cars_test[col_to_scale] = sc.fit_transform(cars_test[col_to_scale])\n",
    "\n",
    "cars_train.head()"
   ]
  },
  {
   "cell_type": "markdown",
   "id": "stainless-bankruptcy",
   "metadata": {},
   "source": [
    "Division into X_train and y_train sets for model construction"
   ]
  },
  {
   "cell_type": "code",
   "execution_count": 50,
   "id": "executed-triple",
   "metadata": {},
   "outputs": [],
   "source": [
    "y_train = cars_train.loc[:,cars_train.columns == 'price']\n",
    "\n",
    "X_train = cars_train.loc[:, cars_train.columns != 'price']"
   ]
  },
  {
   "cell_type": "markdown",
   "id": "educational-custody",
   "metadata": {},
   "source": [
    "Division into X_test and y_test sets"
   ]
  },
  {
   "cell_type": "code",
   "execution_count": 51,
   "id": "electronic-bleeding",
   "metadata": {},
   "outputs": [],
   "source": [
    "y_test = cars_test.loc[:,cars_test.columns == 'price']\n",
    "\n",
    "X_test = cars_test.loc[:, cars_test.columns != 'price']"
   ]
  },
  {
   "cell_type": "code",
   "execution_count": 52,
   "id": "legitimate-removal",
   "metadata": {},
   "outputs": [
    {
     "data": {
      "text/plain": [
       "0.8558800905758736"
      ]
     },
     "execution_count": 52,
     "metadata": {},
     "output_type": "execute_result"
    }
   ],
   "source": [
    "#Linear Regression Model\n",
    "from sklearn.metrics import r2_score\n",
    "\n",
    "from sklearn.linear_model import LinearRegression\n",
    "reg=LinearRegression()\n",
    "reg.fit(X_train,y_train)\n",
    "y_pred=reg.predict(X_test) \n",
    "\n",
    "\n",
    "r2_score(y_test,y_pred)"
   ]
  },
  {
   "cell_type": "code",
   "execution_count": 54,
   "id": "naval-compromise",
   "metadata": {},
   "outputs": [
    {
     "name": "stderr",
     "output_type": "stream",
     "text": [
      "<ipython-input-54-ecd0f9b5e666>:4: DataConversionWarning: A column-vector y was passed when a 1d array was expected. Please change the shape of y to (n_samples,), for example using ravel().\n",
      "  RForest.fit(X_train,y_train)\n"
     ]
    },
    {
     "data": {
      "text/plain": [
       "0.8343419198087942"
      ]
     },
     "execution_count": 54,
     "metadata": {},
     "output_type": "execute_result"
    }
   ],
   "source": [
    "## Random Forest Regression\n",
    "from sklearn.ensemble import RandomForestRegressor\n",
    "RForest=RandomForestRegressor()\n",
    "RForest.fit(X_train,y_train)\n",
    "y_predict=RForest.predict(X_test)\n",
    "\n",
    "r2_score(y_test,y_predict)"
   ]
  },
  {
   "cell_type": "code",
   "execution_count": null,
   "id": "pressed-arlington",
   "metadata": {},
   "outputs": [],
   "source": []
  },
  {
   "cell_type": "code",
   "execution_count": null,
   "id": "bottom-creation",
   "metadata": {},
   "outputs": [],
   "source": []
  },
  {
   "cell_type": "code",
   "execution_count": null,
   "id": "eleven-delaware",
   "metadata": {},
   "outputs": [],
   "source": []
  },
  {
   "cell_type": "code",
   "execution_count": null,
   "id": "divided-chest",
   "metadata": {},
   "outputs": [],
   "source": []
  },
  {
   "cell_type": "code",
   "execution_count": null,
   "id": "existing-cricket",
   "metadata": {},
   "outputs": [],
   "source": []
  },
  {
   "cell_type": "code",
   "execution_count": null,
   "id": "naval-helmet",
   "metadata": {},
   "outputs": [],
   "source": []
  },
  {
   "cell_type": "code",
   "execution_count": null,
   "id": "delayed-directory",
   "metadata": {},
   "outputs": [],
   "source": []
  },
  {
   "cell_type": "code",
   "execution_count": null,
   "id": "binary-wealth",
   "metadata": {},
   "outputs": [],
   "source": []
  },
  {
   "cell_type": "code",
   "execution_count": null,
   "id": "patent-hurricane",
   "metadata": {},
   "outputs": [],
   "source": []
  }
 ],
 "metadata": {
  "kernelspec": {
   "display_name": "Python 3",
   "language": "python",
   "name": "python3"
  },
  "language_info": {
   "codemirror_mode": {
    "name": "ipython",
    "version": 3
   },
   "file_extension": ".py",
   "mimetype": "text/x-python",
   "name": "python",
   "nbconvert_exporter": "python",
   "pygments_lexer": "ipython3",
   "version": "3.9.1"
  }
 },
 "nbformat": 4,
 "nbformat_minor": 5
}
